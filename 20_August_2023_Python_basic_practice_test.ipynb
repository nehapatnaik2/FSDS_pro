{
 "cells": [
  {
   "cell_type": "markdown",
   "id": "b4a781c4-0b19-4f32-b67a-02ed892b35ed",
   "metadata": {},
   "source": [
    " ### Strings based Practice questions:"
   ]
  },
  {
   "cell_type": "markdown",
   "id": "13faa73d-8379-4002-a8a0-c2db069a0744",
   "metadata": {},
   "source": [
    "1. Write a program to reverse a string."
   ]
  },
  {
   "cell_type": "code",
   "execution_count": 1,
   "id": "88964917-b058-4f9e-9923-50b2956692e5",
   "metadata": {},
   "outputs": [
    {
     "name": "stdin",
     "output_type": "stream",
     "text": [
      " hdehdwhufer 99\n"
     ]
    }
   ],
   "source": [
    "s1 = input()\n"
   ]
  },
  {
   "cell_type": "code",
   "execution_count": 2,
   "id": "60fe5b28-afb2-457e-b675-32ec2f80bff3",
   "metadata": {},
   "outputs": [
    {
     "data": {
      "text/plain": [
       "'99 refuhwdhedh'"
      ]
     },
     "execution_count": 2,
     "metadata": {},
     "output_type": "execute_result"
    }
   ],
   "source": [
    "s1_reversed = s1[::-1]\n",
    "s1_reversed"
   ]
  },
  {
   "cell_type": "markdown",
   "id": "8aa047e9-0ad2-412a-8390-fb719d7c5b46",
   "metadata": {},
   "source": [
    "2. Check if a string is a palindrome."
   ]
  },
  {
   "cell_type": "code",
   "execution_count": 4,
   "id": "e8dba05c-424e-4d86-8eec-2100da0b63c1",
   "metadata": {},
   "outputs": [
    {
     "name": "stdin",
     "output_type": "stream",
     "text": [
      " teyiy226677\n"
     ]
    },
    {
     "name": "stdout",
     "output_type": "stream",
     "text": [
      "No, it is not a palindrome.\n"
     ]
    }
   ],
   "source": [
    "s2 = input()\n",
    "if s2 == s2[::-1]:\n",
    "    print(\"Yes, it is a palindrome.\")\n",
    "else:\n",
    "    print(\"No, it is not a palindrome.\")\n",
    "    "
   ]
  },
  {
   "cell_type": "markdown",
   "id": "924f2dc4-bd0e-4074-b7aa-791eb96cdbb1",
   "metadata": {},
   "source": [
    "3. Convert a string to uppercase.\n",
    "4. Convert a string to lowercase."
   ]
  },
  {
   "cell_type": "code",
   "execution_count": 5,
   "id": "66e1ef0d-a039-46dc-a93e-4fb5d5699831",
   "metadata": {},
   "outputs": [
    {
     "name": "stdin",
     "output_type": "stream",
     "text": [
      " ttgdqhgGGGGh\n"
     ]
    },
    {
     "name": "stdout",
     "output_type": "stream",
     "text": [
      "The string in uppercase is TTGDQHGGGGGH and in lowercase is ttgdqhgggggh.\n"
     ]
    }
   ],
   "source": [
    "s3 = input()\n",
    "s3_upper = s3.upper()\n",
    "s3_lower = s3.lower()\n",
    "print(f\"The string in uppercase is {s3_upper} and in lowercase is {s3_lower}.\") "
   ]
  },
  {
   "cell_type": "markdown",
   "id": "e681d178-67dd-4310-ba3f-e754b1d0444a",
   "metadata": {},
   "source": [
    "5. Count the number of vowels in a string.\n",
    "6. Count the number of consonants in a string."
   ]
  },
  {
   "cell_type": "code",
   "execution_count": 52,
   "id": "8780245a-0dc8-4aab-a66f-01571167c0c8",
   "metadata": {},
   "outputs": [
    {
     "name": "stdin",
     "output_type": "stream",
     "text": [
      " jlkjlk\n"
     ]
    }
   ],
   "source": [
    "s4 = input()\n"
   ]
  },
  {
   "cell_type": "code",
   "execution_count": 61,
   "id": "c884fc40-2e2d-41fb-99a5-14561116d54f",
   "metadata": {},
   "outputs": [
    {
     "name": "stdout",
     "output_type": "stream",
     "text": [
      "No. of consonants in the sentence: 6\n"
     ]
    }
   ],
   "source": [
    "s4 = s4.lower()\n",
    "count_consonants = 0\n",
    "count_vowels = 0\n",
    "for i in s4:\n",
    "    if i not in ['a','i','e','o','u']:\n",
    "        count_consonants = count_consonants+1\n",
    "print(\"No. of consonants in the sentence:\", count_consonants)"
   ]
  },
  {
   "cell_type": "code",
   "execution_count": 62,
   "id": "69a2aad1-fea8-4579-a640-a25c946b7db9",
   "metadata": {
    "collapsed": true,
    "jupyter": {
     "outputs_hidden": true
    },
    "tags": []
   },
   "outputs": [
    {
     "ename": "SyntaxError",
     "evalue": "invalid syntax (2807652598.py, line 1)",
     "output_type": "error",
     "traceback": [
      "\u001b[0;36m  Cell \u001b[0;32mIn[62], line 1\u001b[0;36m\u001b[0m\n\u001b[0;31m    else:\u001b[0m\n\u001b[0m    ^\u001b[0m\n\u001b[0;31mSyntaxError\u001b[0m\u001b[0;31m:\u001b[0m invalid syntax\n"
     ]
    }
   ],
   "source": [
    "    else:\n",
    "        count_vowles = count_vowels+1\n",
    "print(\"No. of vowles in the sentence:\", count_vowles)        \n",
    "# Why is this codenot working????\n",
    "#please help"
   ]
  },
  {
   "cell_type": "code",
   "execution_count": 64,
   "id": "3fbc86cf-07aa-438c-87af-ba0d7c1b927a",
   "metadata": {},
   "outputs": [
    {
     "name": "stdin",
     "output_type": "stream",
     "text": [
      " aeiouu\n"
     ]
    },
    {
     "name": "stdout",
     "output_type": "stream",
     "text": [
      "No. of count_vowels in the sentence: 6\n"
     ]
    }
   ],
   "source": [
    "s5 = input()\n",
    "s5 = s5.lower()\n",
    "count_vowels = 0\n",
    "for i in s5:\n",
    "    if i  in ['a','i','e','o','u']:\n",
    "        count_vowels = count_vowels +1\n",
    "print(\"No. of count_vowels in the sentence:\", count_vowels)"
   ]
  },
  {
   "cell_type": "markdown",
   "id": "f125ddd2-242a-4d55-906a-b43c07b95c3e",
   "metadata": {},
   "source": [
    "7. Remove all whitespaces from a string."
   ]
  },
  {
   "cell_type": "code",
   "execution_count": 65,
   "id": "6fd95558-ccc6-4f3b-964f-26a476b447f3",
   "metadata": {},
   "outputs": [
    {
     "name": "stdin",
     "output_type": "stream",
     "text": [
      " Hello from me\n"
     ]
    },
    {
     "data": {
      "text/plain": [
       "'Hellofromme'"
      ]
     },
     "execution_count": 65,
     "metadata": {},
     "output_type": "execute_result"
    }
   ],
   "source": [
    "s6 = input()\n",
    "s6 = s6.replace(\" \" , \"\") # replace white space with no space.\n",
    "s6"
   ]
  },
  {
   "cell_type": "markdown",
   "id": "34da339e-9940-46f5-adf4-2c5b9a84e1f4",
   "metadata": {},
   "source": [
    "8. Find the length of a string without using the `len()` function.\n"
   ]
  },
  {
   "cell_type": "code",
   "execution_count": 66,
   "id": "125e27d2-b84e-4265-9927-b2752a37509b",
   "metadata": {},
   "outputs": [
    {
     "name": "stdin",
     "output_type": "stream",
     "text": [
      " Hello from neha\n"
     ]
    },
    {
     "name": "stdout",
     "output_type": "stream",
     "text": [
      "length of the string is 15\n"
     ]
    }
   ],
   "source": [
    "s7 = input()\n",
    "count = 0\n",
    "for i in s7:\n",
    "    count = count + 1\n",
    "print(\"length of the string is\", count)    "
   ]
  },
  {
   "cell_type": "markdown",
   "id": "281a3427-f8c8-4151-856f-f7ff02480030",
   "metadata": {},
   "source": [
    "9. Check if a string contains a specific word."
   ]
  },
  {
   "cell_type": "code",
   "execution_count": 69,
   "id": "3c2ddeac-6560-4a5b-937e-b83405952f9a",
   "metadata": {},
   "outputs": [
    {
     "name": "stdin",
     "output_type": "stream",
     "text": [
      " HELLO\n"
     ]
    },
    {
     "name": "stdout",
     "output_type": "stream",
     "text": [
      "Yes, the string contains the word\n"
     ]
    }
   ],
   "source": [
    "s8 = input()\n",
    "s8 = s8.lower()\n",
    "if 'hello' in s8:\n",
    "    print(\"Yes, the string contains the word\")\n",
    "else:\n",
    "    print(\"No, the string doesnot contain the word\")"
   ]
  },
  {
   "cell_type": "markdown",
   "id": "191b11f2-7075-4cef-b285-a97a412fb297",
   "metadata": {},
   "source": [
    "10. Replace a word in a string with another word.\n"
   ]
  },
  {
   "cell_type": "code",
   "execution_count": 70,
   "id": "c9b7dd8d-5721-4c72-a750-6781c134879f",
   "metadata": {},
   "outputs": [
    {
     "name": "stdin",
     "output_type": "stream",
     "text": [
      " Hello come inside\n"
     ]
    },
    {
     "data": {
      "text/plain": [
       "'Hello come outside'"
      ]
     },
     "execution_count": 70,
     "metadata": {},
     "output_type": "execute_result"
    }
   ],
   "source": [
    "s9 = input()\n",
    "s_replaced = s9.replace(\"in\" ,\"out\")\n",
    "s_replaced"
   ]
  },
  {
   "cell_type": "markdown",
   "id": "2ab96384-a002-41be-9c95-b72d7b5bec2f",
   "metadata": {},
   "source": [
    "11. Count the occurrences of a word in a string."
   ]
  },
  {
   "cell_type": "code",
   "execution_count": 71,
   "id": "9447c785-200c-4a80-91c5-e344e33e0200",
   "metadata": {},
   "outputs": [
    {
     "name": "stdin",
     "output_type": "stream",
     "text": [
      " Hello hello none\n"
     ]
    },
    {
     "data": {
      "text/plain": [
       "2"
      ]
     },
     "execution_count": 71,
     "metadata": {},
     "output_type": "execute_result"
    }
   ],
   "source": [
    "s10 = input()\n",
    "s10= s10.lower()\n",
    "count = s10.count(\"hello\")\n",
    "count"
   ]
  },
  {
   "cell_type": "markdown",
   "id": "a3979106-e9b3-445d-8f0f-fa2dcd105ae0",
   "metadata": {},
   "source": [
    "12. Find the first occurrence of a word in a string.\n",
    "13. Find the last occurrence of a word in a string."
   ]
  },
  {
   "cell_type": "code",
   "execution_count": 75,
   "id": "4c2c9718-7eb4-4651-977c-4bd7e4e3faea",
   "metadata": {},
   "outputs": [
    {
     "name": "stdin",
     "output_type": "stream",
     "text": [
      " hello to my dear friends hello hell\n"
     ]
    },
    {
     "name": "stdout",
     "output_type": "stream",
     "text": [
      "first_occurance is at 0 index\n"
     ]
    }
   ],
   "source": [
    "s11 = input()\n",
    "first_occurance = s11.index('hello')\n",
    "print(\"first_occurance is at\", first_occurance,\"index\")"
   ]
  },
  {
   "cell_type": "code",
   "execution_count": 76,
   "id": "a719a5d6-596a-4926-9487-396d4df2fd87",
   "metadata": {},
   "outputs": [
    {
     "name": "stdout",
     "output_type": "stream",
     "text": [
      "last_occurance is at 25 index\n"
     ]
    }
   ],
   "source": [
    "last_occurance = s11.rfind('hello') # rfind() gives last occurance of a word in a string.\n",
    "print(\"last_occurance is at\", last_occurance,\"index\")"
   ]
  },
  {
   "cell_type": "markdown",
   "id": "1052d414-8e6d-4a53-a50b-7acc6ed14690",
   "metadata": {},
   "source": [
    "14. Split a string into a list of words.\n",
    "15. Join a list of words into a string."
   ]
  },
  {
   "cell_type": "code",
   "execution_count": 87,
   "id": "ef839fca-b6f8-4c26-9771-8b64d0dd5115",
   "metadata": {},
   "outputs": [
    {
     "name": "stdin",
     "output_type": "stream",
     "text": [
      " wndewndjj\n"
     ]
    },
    {
     "data": {
      "text/plain": [
       "['wndewndjj']"
      ]
     },
     "execution_count": 87,
     "metadata": {},
     "output_type": "execute_result"
    }
   ],
   "source": [
    "# splitting strings\n",
    "s12=input()\n",
    "new = s12.split() # splits sentence in to items of list on white space as separator.\n",
    "new\n",
    "#OR\n",
    "#l = list(s12)\n",
    "#l"
   ]
  },
  {
   "cell_type": "code",
   "execution_count": 93,
   "id": "8e954a7f-8c86-4779-809c-01ff1752962d",
   "metadata": {},
   "outputs": [
    {
     "data": {
      "text/plain": [
       "'assddd'"
      ]
     },
     "execution_count": 93,
     "metadata": {},
     "output_type": "execute_result"
    }
   ],
   "source": [
    "# JOining items of a list in to a string.\n",
    "l = [\"a\",\"ssd\",\"dd\"]\n",
    "joined = \"\".join(l) # use .join(list_) method\n",
    "joined"
   ]
  },
  {
   "cell_type": "markdown",
   "id": "a8989071-989f-4b5f-a118-2e1cc4892641",
   "metadata": {},
   "source": [
    "16. Convert a string where words are separated by spaces to one where words\n",
    "are separated by underscores.\n",
    "17. Check if a string starts with a specific word or phrase.\n",
    "18. Check if a string ends with a specific word or phrase.\n",
    "19. Convert a string to title case (e.g., \"hello world\" to \"Hello World\").\n",
    "20. Find the longest word in a string. # I have doubt in these.\n",
    "21. Find the shortest word in a string.\n",
    "22. Reverse the order of words in a string."
   ]
  },
  {
   "cell_type": "code",
   "execution_count": 94,
   "id": "56cf2e0f-2955-4044-a45d-3ebb405e5861",
   "metadata": {},
   "outputs": [
    {
     "name": "stdin",
     "output_type": "stream",
     "text": [
      " Hello world\n"
     ]
    },
    {
     "data": {
      "text/plain": [
       "'Hello_world'"
      ]
     },
     "execution_count": 94,
     "metadata": {},
     "output_type": "execute_result"
    }
   ],
   "source": [
    "#16)\n",
    "s= input()\n",
    "s_s = s.replace(\" \", \"_\")\n",
    "s_s"
   ]
  },
  {
   "cell_type": "code",
   "execution_count": 96,
   "id": "526830db-0af5-42cc-bf5a-b1e18b6038f8",
   "metadata": {},
   "outputs": [
    {
     "name": "stdin",
     "output_type": "stream",
     "text": [
      " gghudhed\n"
     ]
    },
    {
     "data": {
      "text/plain": [
       "False"
      ]
     },
     "execution_count": 96,
     "metadata": {},
     "output_type": "execute_result"
    }
   ],
   "source": [
    "#17)\n",
    "s = input()\n",
    "s_q = s.startswith(\"he\")\n",
    "s_q"
   ]
  },
  {
   "cell_type": "code",
   "execution_count": 97,
   "id": "1dc6b2f7-673b-41fe-b55d-e5c4cb7aeed6",
   "metadata": {},
   "outputs": [
    {
     "name": "stdin",
     "output_type": "stream",
     "text": [
      " Hello world\n"
     ]
    },
    {
     "data": {
      "text/plain": [
       "True"
      ]
     },
     "execution_count": 97,
     "metadata": {},
     "output_type": "execute_result"
    }
   ],
   "source": [
    "#18)\n",
    "s = input()\n",
    "s_e = s.endswith(\"rld\")\n",
    "s_e"
   ]
  },
  {
   "cell_type": "code",
   "execution_count": 98,
   "id": "afd3d097-fa68-4bcc-b1fa-b5f066eb6221",
   "metadata": {},
   "outputs": [
    {
     "name": "stdin",
     "output_type": "stream",
     "text": [
      " nino\n"
     ]
    },
    {
     "data": {
      "text/plain": [
       "'Nino'"
      ]
     },
     "execution_count": 98,
     "metadata": {},
     "output_type": "execute_result"
    }
   ],
   "source": [
    "#19)\n",
    "s = input()\n",
    "s_t = s.title()\n",
    "s_t"
   ]
  },
  {
   "cell_type": "code",
   "execution_count": 115,
   "id": "8ba89c01-841a-4ada-a645-88895f7f5a3d",
   "metadata": {},
   "outputs": [
    {
     "name": "stdin",
     "output_type": "stream",
     "text": [
      " hellooooo h u\n"
     ]
    }
   ],
   "source": [
    "#20) and # 21)\n",
    "#After splitting it is passed to max() function with keyword argument key=len\n",
    "#which returns longest word from sentence.\n",
    "\n",
    "s = input()\n",
    "s_list= s.split()\n",
    "    "
   ]
  },
  {
   "cell_type": "code",
   "execution_count": 116,
   "id": "3b473e70-9673-4705-9d58-4f44601f3f2e",
   "metadata": {},
   "outputs": [
    {
     "data": {
      "text/plain": [
       "'hellooooo'"
      ]
     },
     "execution_count": 116,
     "metadata": {},
     "output_type": "execute_result"
    }
   ],
   "source": [
    "s_list\n",
    "min(s_list, key =len) # shortest word\n",
    "max(s_list, key =len) # longest word"
   ]
  },
  {
   "cell_type": "code",
   "execution_count": 117,
   "id": "076d1d02-7f9a-4588-a7c7-1648f5e5150c",
   "metadata": {},
   "outputs": [
    {
     "name": "stdout",
     "output_type": "stream",
     "text": [
      "the shortest word in the sentence/string is -  h\n",
      "the longest word in the sentence/string is -  hellooooo\n"
     ]
    }
   ],
   "source": [
    "print(\"the shortest word in the sentence/string is - \", min(s_list, key =len))\n",
    "print(\"the longest word in the sentence/string is - \", max(s_list, key =len))"
   ]
  },
  {
   "cell_type": "code",
   "execution_count": 11,
   "id": "5551e21d-f11c-4f30-80d9-2c9e996c14e5",
   "metadata": {
    "collapsed": true,
    "jupyter": {
     "outputs_hidden": true
    },
    "tags": []
   },
   "outputs": [
    {
     "name": "stdin",
     "output_type": "stream",
     "text": [
      " \n"
     ]
    },
    {
     "ename": "IndexError",
     "evalue": "list index out of range",
     "output_type": "error",
     "traceback": [
      "\u001b[0;31m---------------------------------------------------------------------------\u001b[0m",
      "\u001b[0;31mIndexError\u001b[0m                                Traceback (most recent call last)",
      "Cell \u001b[0;32mIn[11], line 4\u001b[0m\n\u001b[1;32m      2\u001b[0m s\u001b[38;5;241m=\u001b[39m \u001b[38;5;28minput\u001b[39m()\n\u001b[1;32m      3\u001b[0m l_list \u001b[38;5;241m=\u001b[39m s\u001b[38;5;241m.\u001b[39msplit()\n\u001b[0;32m----> 4\u001b[0m longest_word \u001b[38;5;241m=\u001b[39m \u001b[43ml_list\u001b[49m\u001b[43m[\u001b[49m\u001b[38;5;241;43m0\u001b[39;49m\u001b[43m]\u001b[49m\n\u001b[1;32m      5\u001b[0m max_length \u001b[38;5;241m=\u001b[39m \u001b[38;5;28mlen\u001b[39m(l_list[\u001b[38;5;241m0\u001b[39m])\n\u001b[1;32m      6\u001b[0m \u001b[38;5;28;01mfor\u001b[39;00m index, word \u001b[38;5;129;01min\u001b[39;00m \u001b[38;5;28menumerate\u001b[39m(l_list):\n",
      "\u001b[0;31mIndexError\u001b[0m: list index out of range"
     ]
    }
   ],
   "source": [
    "#OR\n",
    "s= input()\n",
    "l_list = s.split()\n",
    "longest_word = l_list[0]\n",
    "max_length = len(l_list[0])\n",
    "for index, word in enumerate(l_list):\n",
    "    if len(word) > max_length:\n",
    "        longest_word = word\n",
    "print(\"longest_word is \", longest_word)        \n",
    "    "
   ]
  },
  {
   "cell_type": "code",
   "execution_count": null,
   "id": "46d28ed6-a2cf-4558-b660-cb86948afff5",
   "metadata": {},
   "outputs": [],
   "source": [
    "#20) what if there is a tie?? how do we choose?"
   ]
  },
  {
   "cell_type": "code",
   "execution_count": 15,
   "id": "1681351a-cb88-416c-91a2-37a911d18ecb",
   "metadata": {},
   "outputs": [
    {
     "name": "stdin",
     "output_type": "stream",
     "text": [
      " Hello\n"
     ]
    },
    {
     "data": {
      "text/plain": [
       "'olleH'"
      ]
     },
     "execution_count": 15,
     "metadata": {},
     "output_type": "execute_result"
    }
   ],
   "source": [
    "#22)\n",
    "s = input()\n",
    "s_reverse = s[::-1]\n",
    "s_reverse"
   ]
  },
  {
   "cell_type": "markdown",
   "id": "de44484d-63bb-4e85-bbcf-2b2e933a7ac3",
   "metadata": {},
   "source": [
    "23. Check if a string is alphanumeric.\n",
    "24. Extract all digits from a string.\n",
    "25. Extract all alphabets from a string.\n",
    "26. Count the number of uppercase letters in a string.\n",
    "27. Count the number of lowercase letters in a string.\n",
    "28. Swap the case of each character in a string.\n",
    "29. Remove a specific word from a string.\n",
    "30. Check if a string is a valid email address."
   ]
  },
  {
   "cell_type": "code",
   "execution_count": 17,
   "id": "8dd97479-6af8-41d2-b47f-d30445c76955",
   "metadata": {},
   "outputs": [
    {
     "name": "stdin",
     "output_type": "stream",
     "text": [
      " 12345fyhgdio\n"
     ]
    },
    {
     "data": {
      "text/plain": [
       "True"
      ]
     },
     "execution_count": 17,
     "metadata": {},
     "output_type": "execute_result"
    }
   ],
   "source": [
    "#23)\n",
    "s = input()\n",
    "s_a= s.isalnum()\n",
    "s_a"
   ]
  },
  {
   "cell_type": "code",
   "execution_count": 21,
   "id": "f4573d5e-8dba-4844-88da-04e3bc5654a2",
   "metadata": {},
   "outputs": [
    {
     "name": "stdin",
     "output_type": "stream",
     "text": [
      " ui77\n"
     ]
    },
    {
     "name": "stdout",
     "output_type": "stream",
     "text": [
      "['7', '7']\n"
     ]
    }
   ],
   "source": [
    "#24)\n",
    "s = input()\n",
    "l = []\n",
    "for i in s:\n",
    "    if i.isdigit():\n",
    "        l.append(i)\n",
    "print(l)        "
   ]
  },
  {
   "cell_type": "code",
   "execution_count": 22,
   "id": "aa073826-8ed1-4e6d-83b2-2b01b40fcf70",
   "metadata": {},
   "outputs": [
    {
     "name": "stdin",
     "output_type": "stream",
     "text": [
      " abcdefgh\n"
     ]
    },
    {
     "name": "stdout",
     "output_type": "stream",
     "text": [
      "['a', 'b', 'c', 'd', 'e', 'f', 'g', 'h']\n"
     ]
    }
   ],
   "source": [
    "#25)\n",
    "s = input()\n",
    "l = []\n",
    "for i in s:\n",
    "    if i.isalpha():\n",
    "        l.append(i)\n",
    "print(l)   "
   ]
  },
  {
   "cell_type": "code",
   "execution_count": 24,
   "id": "3f5afb67-d0ef-4af3-bfbb-a1cd6feed865",
   "metadata": {},
   "outputs": [
    {
     "name": "stdin",
     "output_type": "stream",
     "text": [
      " ABCDrrtyu\n"
     ]
    },
    {
     "name": "stdout",
     "output_type": "stream",
     "text": [
      "the no. of upper case letters are 4\n"
     ]
    }
   ],
   "source": [
    "#26)\n",
    "s = input()\n",
    "count = 0\n",
    "for i in s:\n",
    "    if i.isupper():\n",
    "        count = count+1\n",
    "print(\"the no. of upper case letters are\", count)        "
   ]
  },
  {
   "cell_type": "code",
   "execution_count": 25,
   "id": "e13b5acb-3fa5-4867-a212-314d82c44a89",
   "metadata": {},
   "outputs": [
    {
     "name": "stdin",
     "output_type": "stream",
     "text": [
      " abGGHHI\n"
     ]
    },
    {
     "name": "stdout",
     "output_type": "stream",
     "text": [
      "the no. of lower case letters are 2\n"
     ]
    }
   ],
   "source": [
    "#27)\n",
    "s = input()\n",
    "count = 0\n",
    "for i in s:\n",
    "    if i.islower():\n",
    "        count = count+1\n",
    "print(\"the no. of lower case letters are\", count)        "
   ]
  },
  {
   "cell_type": "code",
   "execution_count": 26,
   "id": "5d611a3b-c67f-4d91-bd77-5b27b7b021fd",
   "metadata": {},
   "outputs": [
    {
     "name": "stdin",
     "output_type": "stream",
     "text": [
      " Abc\n"
     ]
    },
    {
     "data": {
      "text/plain": [
       "'aBC'"
      ]
     },
     "execution_count": 26,
     "metadata": {},
     "output_type": "execute_result"
    }
   ],
   "source": [
    "#28)\n",
    "s = input()\n",
    "s_swap = s.swapcase()\n",
    "s_swap"
   ]
  },
  {
   "cell_type": "code",
   "execution_count": 27,
   "id": "a8128b9f-f42f-45eb-898e-065abf33975b",
   "metadata": {},
   "outputs": [
    {
     "name": "stdin",
     "output_type": "stream",
     "text": [
      " I drink a lot of water\n"
     ]
    },
    {
     "data": {
      "text/plain": [
       "'I drink a lot of '"
      ]
     },
     "execution_count": 27,
     "metadata": {},
     "output_type": "execute_result"
    }
   ],
   "source": [
    "#29)\n",
    "s = input()\n",
    "s_remove = s.replace(\"water\", \"\")\n",
    "s_remove"
   ]
  },
  {
   "cell_type": "code",
   "execution_count": null,
   "id": "9d27a227-bbb6-4f4e-b074-12bf674b3fdd",
   "metadata": {},
   "outputs": [],
   "source": [
    "#30)\n",
    "# Use regression\n"
   ]
  },
  {
   "cell_type": "code",
   "execution_count": null,
   "id": "3fba7865-703c-4853-a85c-8f8efd41932c",
   "metadata": {},
   "outputs": [],
   "source": [
    "31. Extract the username from an email address string.\n",
    "32. Extract the domain name from an email address string.\n",
    "33. Replace multiple spaces in a string with a single space.\n",
    "34. Check if a string is a valid URL.\n",
    "35. Extract the protocol (http or https) from a URL string.\n",
    "36. Find the frequency of each character in a string.\n",
    "37. Remove all punctuation from a string.\n",
    "38. Check if a string contains only digits.\n",
    "39. Check if a string contains only alphabets.\n",
    "40. Convert a string to a list of characters."
   ]
  },
  {
   "cell_type": "code",
   "execution_count": 5,
   "id": "1aa7559a-280e-4823-be9f-ac3538252275",
   "metadata": {},
   "outputs": [
    {
     "name": "stdin",
     "output_type": "stream",
     "text": [
      "enter email: neha00@gmail.com\n"
     ]
    },
    {
     "data": {
      "text/plain": [
       "'neha00'"
      ]
     },
     "execution_count": 5,
     "metadata": {},
     "output_type": "execute_result"
    }
   ],
   "source": [
    "#31)\n",
    "q = input(\"enter email:\")\n",
    "username = q.split(\"@\")[0]\n",
    "username"
   ]
  },
  {
   "cell_type": "code",
   "execution_count": 6,
   "id": "6ca0ebd3-c6c2-45f3-a245-7665f1835de3",
   "metadata": {},
   "outputs": [
    {
     "data": {
      "text/plain": [
       "'gmail.com'"
      ]
     },
     "execution_count": 6,
     "metadata": {},
     "output_type": "execute_result"
    }
   ],
   "source": [
    "#32) domain name\n",
    "domain_name = q.split(\"@\")[1]\n",
    "domain_name"
   ]
  },
  {
   "cell_type": "code",
   "execution_count": 3,
   "id": "e176cb68-324f-40ee-a6a2-c6c3c7dcd1fa",
   "metadata": {},
   "outputs": [
    {
     "name": "stdin",
     "output_type": "stream",
     "text": [
      " hi     you are the best   .\n"
     ]
    },
    {
     "data": {
      "text/plain": [
       "['hi', 'you', 'are', 'the', 'best', '.']"
      ]
     },
     "execution_count": 3,
     "metadata": {},
     "output_type": "execute_result"
    }
   ],
   "source": [
    "#33) Replace multiple spaces in a string with a single space.\n",
    "s = input()\n",
    "s_s = s.split()\n",
    "s_s"
   ]
  },
  {
   "cell_type": "code",
   "execution_count": 4,
   "id": "4eec0d1b-c9a5-4813-8d26-b785ca825461",
   "metadata": {},
   "outputs": [
    {
     "data": {
      "text/plain": [
       "'hi you are the best .'"
      ]
     },
     "execution_count": 4,
     "metadata": {},
     "output_type": "execute_result"
    }
   ],
   "source": [
    "\" \".join(s_s)"
   ]
  },
  {
   "cell_type": "code",
   "execution_count": null,
   "id": "b6eb55ef-98a1-42de-a946-413e1b6292ab",
   "metadata": {},
   "outputs": [],
   "source": [
    "# 34)"
   ]
  },
  {
   "cell_type": "code",
   "execution_count": 7,
   "id": "f192969f-ddbb-40a3-b5c6-f834c7a51934",
   "metadata": {},
   "outputs": [
    {
     "name": "stdin",
     "output_type": "stream",
     "text": [
      "enter url: http://hjfjhfjfv\n"
     ]
    },
    {
     "data": {
      "text/plain": [
       "'http'"
      ]
     },
     "execution_count": 7,
     "metadata": {},
     "output_type": "execute_result"
    }
   ],
   "source": [
    "#35)\n",
    "q = input(\"enter url:\")\n",
    "h = q.split(\":\")[0]\n",
    "h\n"
   ]
  },
  {
   "cell_type": "code",
   "execution_count": 14,
   "id": "3f2492bf-2204-40ba-a1af-ad9a0dfea031",
   "metadata": {},
   "outputs": [
    {
     "name": "stdin",
     "output_type": "stream",
     "text": [
      "enter the string: hello how\n"
     ]
    },
    {
     "name": "stdout",
     "output_type": "stream",
     "text": [
      "{'h': 2, 'e': 1, 'l': 2, 'o': 2, ' ': 1, 'w': 1}\n"
     ]
    }
   ],
   "source": [
    "#36)\n",
    "#frequency of each character in a string # use list()\n",
    "sy = input(\"enter the string:\")\n",
    "ll = list(sy) #convert it in to a list\n",
    "dictt = {}\n",
    "for i in ll:\n",
    "    dictt[i] = ll.count(i)\n",
    "print(dictt)    \n"
   ]
  },
  {
   "cell_type": "code",
   "execution_count": 16,
   "id": "6250231e-ffba-42d4-b7eb-1ef1ebfeadc0",
   "metadata": {},
   "outputs": [
    {
     "name": "stdin",
     "output_type": "stream",
     "text": [
      " ddahd%%%,...\n"
     ]
    },
    {
     "name": "stdout",
     "output_type": "stream",
     "text": [
      "The string after punctuation filter :  ddahd\n"
     ]
    }
   ],
   "source": [
    "# 37) Remove punctuation.\n",
    "si = input()\n",
    "punctuation = '''!()-[]{};:'\"\\,<>./?@#$%^&*_~'''\n",
    "for i in si:\n",
    "    if i in punctuation:\n",
    "        si = si.replace( i, '')\n",
    "print(\"The string after punctuation filter : \", si)        \n"
   ]
  },
  {
   "cell_type": "code",
   "execution_count": 24,
   "id": "582ce82a-77da-4fc2-b53a-c14e6dfb3321",
   "metadata": {},
   "outputs": [
    {
     "name": "stdin",
     "output_type": "stream",
     "text": [
      " 6778\n"
     ]
    },
    {
     "name": "stdout",
     "output_type": "stream",
     "text": [
      "yes\n"
     ]
    }
   ],
   "source": [
    "# 38)\n",
    "s= input()\n",
    "if s.isdigit():\n",
    "    print(\"yes\")"
   ]
  },
  {
   "cell_type": "code",
   "execution_count": 26,
   "id": "f42a4885-c6ef-4d74-8a04-bb7356bb53b0",
   "metadata": {},
   "outputs": [
    {
     "name": "stdin",
     "output_type": "stream",
     "text": [
      " 798788\n"
     ]
    },
    {
     "name": "stdout",
     "output_type": "stream",
     "text": [
      "NO\n"
     ]
    }
   ],
   "source": [
    "#39)\n",
    "s = input()\n",
    "if s.isalpha():\n",
    "    print(\"Yes\")\n",
    "else:\n",
    "    print(\"NO\")"
   ]
  },
  {
   "cell_type": "code",
   "execution_count": 27,
   "id": "117c947c-b14e-4b75-8ef5-3abe64e8c526",
   "metadata": {
    "collapsed": true,
    "jupyter": {
     "outputs_hidden": true
    },
    "tags": []
   },
   "outputs": [
    {
     "name": "stdin",
     "output_type": "stream",
     "text": [
      " hferhfierhiorgioer\n"
     ]
    },
    {
     "data": {
      "text/plain": [
       "['h',\n",
       " 'f',\n",
       " 'e',\n",
       " 'r',\n",
       " 'h',\n",
       " 'f',\n",
       " 'i',\n",
       " 'e',\n",
       " 'r',\n",
       " 'h',\n",
       " 'i',\n",
       " 'o',\n",
       " 'r',\n",
       " 'g',\n",
       " 'i',\n",
       " 'o',\n",
       " 'e',\n",
       " 'r']"
      ]
     },
     "execution_count": 27,
     "metadata": {},
     "output_type": "execute_result"
    }
   ],
   "source": [
    "#40)\n",
    "s = input()\n",
    "list(s)"
   ]
  },
  {
   "cell_type": "markdown",
   "id": "71d4fdb6-95d6-4888-8361-da4a1d0151fb",
   "metadata": {
    "jupyter": {
     "source_hidden": true
    },
    "tags": []
   },
   "source": [
    "41. Check if two strings are anagrams.\n",
    "42. Encode a string using a Caesar cipher.\n",
    "43. Decode a Caesar cipher encoded string."
   ]
  },
  {
   "cell_type": "code",
   "execution_count": 42,
   "id": "61bb9ad7-b3ce-4b8e-b225-c45d4f505e1c",
   "metadata": {},
   "outputs": [
    {
     "name": "stdout",
     "output_type": "stream",
     "text": [
      "abcde bdca are not  anagrams.\n"
     ]
    }
   ],
   "source": [
    "#41)\n",
    "str1= 'abcde'\n",
    "str2 = 'bdca'\n",
    "if len(str1) == len(str2):\n",
    "    str1_s= sorted(str1) ## using sorted() on a string splits the string in to a list of sorted alphabets!!!\n",
    "    str2_s = sorted(str2)\n",
    "    if str1_s == str2_s:\n",
    "        print(str1 +\" \"+ str2 + \" are anagrams.\")  \n",
    "else:\n",
    "    print(str1 +\" \"+ str2 + \" are not  anagrams.\")\n",
    "    \n",
    "    "
   ]
  },
  {
   "cell_type": "code",
   "execution_count": null,
   "id": "1573517c-3838-4d84-a16f-0d3ee8654802",
   "metadata": {},
   "outputs": [],
   "source": [
    "#42) Ceaser Cipher\n",
    "# It is a form of encoding/encryption where each letter in the text is moved by some positions\n",
    "#ord() returns the unicode of a given character.\n",
    "# character in to an integer and vice versa.\n"
   ]
  },
  {
   "cell_type": "code",
   "execution_count": 45,
   "id": "2d649679-f5f9-4554-8a04-d5d43722b7fc",
   "metadata": {},
   "outputs": [
    {
     "name": "stdout",
     "output_type": "stream",
     "text": [
      "ILSSV DVYSK\n"
     ]
    }
   ],
   "source": [
    "plain_text = \"Hello world\"\n",
    "n = 1\n",
    "ans =\"\"\n",
    "for i in range(len(plain_text)):\n",
    "    ch = plain_text[i]\n",
    "    if ch ==\" \":\n",
    "        ans += \" \"\n",
    "    elif ch.upper():\n",
    "        ans+= chr((ord(ch) + n-65) % 26 +65)\n",
    "    else:\n",
    "        ans+= chr((ord(ch) + n-97) %26 +97)\n",
    "print(ans)        \n",
    "               "
   ]
  },
  {
   "cell_type": "code",
   "execution_count": 50,
   "id": "af68821e-3bde-43e4-aa4f-07f6be91fbf0",
   "metadata": {},
   "outputs": [
    {
     "name": "stdin",
     "output_type": "stream",
     "text": [
      "enter message to be decrypted: KYZJ ZJ R MVIP TFFC DVJJRXV\n"
     ]
    },
    {
     "name": "stdout",
     "output_type": "stream",
     "text": [
      "this is a very cool message\n"
     ]
    }
   ],
   "source": [
    "message = input(\"enter message to be decrypted:\")\n",
    "message = message.lower()\n",
    "letters ='abcdefghijklmnopqrstuvwxyz'\n",
    "k = 17\n",
    "decrypted_msg = \"\"\n",
    "for ch in message:\n",
    "    if ch in letters:\n",
    "        position_index = letters.find(ch)\n",
    "        new_position_index = (position_index-k) % 26\n",
    "        decoded_ch = letters[new_position_index]\n",
    "        decrypted_msg += decoded_ch\n",
    "    else:\n",
    "        decrypted_msg += ch\n",
    "print(decrypted_msg)        \n"
   ]
  },
  {
   "cell_type": "markdown",
   "id": "b062eba0-6090-4d9f-b577-fa3f860fc359",
   "metadata": {},
   "source": [
    "44. Find the most frequent word in a string.\n",
    "45. Find all unique words in a string.\n",
    "46. Count the number of syllables in a string."
   ]
  },
  {
   "cell_type": "code",
   "execution_count": 26,
   "id": "42b8dd21-175f-43e9-902f-7a3faa9cc658",
   "metadata": {},
   "outputs": [
    {
     "name": "stdin",
     "output_type": "stream",
     "text": [
      " we are the best of the best for best .\n"
     ]
    },
    {
     "name": "stdout",
     "output_type": "stream",
     "text": [
      "{'we': 1, 'are': 1, 'the': 2, 'best': 3, 'of': 1, 'for': 1, '.': 1}\n"
     ]
    }
   ],
   "source": [
    "#44)\n",
    "s = input()\n",
    "s_l = s.split()\n",
    "dic ={}\n",
    "\n",
    "for i in s_l:\n",
    "    dic[i] = s_l.count(i)\n",
    "print(dic)    \n",
    "    \n",
    "    "
   ]
  },
  {
   "cell_type": "code",
   "execution_count": 27,
   "id": "43282421-266b-4c45-8499-48ceff6d46a7",
   "metadata": {},
   "outputs": [
    {
     "data": {
      "text/plain": [
       "'best'"
      ]
     },
     "execution_count": 27,
     "metadata": {},
     "output_type": "execute_result"
    }
   ],
   "source": [
    "frequent =max(dic, key = dic.get)\n",
    "frequent\n",
    "# most frequent word in a string/sentence dictionary"
   ]
  },
  {
   "cell_type": "code",
   "execution_count": 28,
   "id": "d3920b31-ca92-4fc2-b621-6c2af7cb2f03",
   "metadata": {},
   "outputs": [
    {
     "name": "stdout",
     "output_type": "stream",
     "text": [
      "The most frequent word in the string is  best\n"
     ]
    }
   ],
   "source": [
    "print(\"The most frequent word in the string is \", frequent)\n"
   ]
  },
  {
   "cell_type": "code",
   "execution_count": 31,
   "id": "3174c815-12e1-4299-8309-c577ca1e2053",
   "metadata": {},
   "outputs": [
    {
     "data": {
      "text/plain": [
       "['best', 'the', 'we', 'are', 'of', 'for', '.']"
      ]
     },
     "execution_count": 31,
     "metadata": {},
     "output_type": "execute_result"
    }
   ],
   "source": [
    "#sorted dictionary as per values\n",
    "st = sorted(dic, key = dic.get,  reverse = True)\n",
    "st"
   ]
  },
  {
   "cell_type": "code",
   "execution_count": null,
   "id": "7f0f9adf-b3f7-41a9-8f9e-503e00336285",
   "metadata": {},
   "outputs": [],
   "source": [
    "## longest word in a string/list = max(list, key = len)\n",
    "## Most frequent word in a string/list = max(dic, key =dic.get)\n",
    "## sorted Most frequent words in a string = sorted(dic, key = dic.get, reverse = True)"
   ]
  },
  {
   "cell_type": "markdown",
   "id": "c79368d7-7e0e-4bec-8cea-96fbc5c5b71a",
   "metadata": {},
   "source": [
    "45. Find all unique words in a string."
   ]
  },
  {
   "cell_type": "code",
   "execution_count": 32,
   "id": "1b2ff739-6c10-44fb-b059-c00afcc86957",
   "metadata": {},
   "outputs": [
    {
     "name": "stdin",
     "output_type": "stream",
     "text": [
      " we are the the the  two two\n"
     ]
    },
    {
     "data": {
      "text/plain": [
       "['we', 'are', 'the', 'the', 'the', 'two', 'two']"
      ]
     },
     "execution_count": 32,
     "metadata": {},
     "output_type": "execute_result"
    }
   ],
   "source": [
    "si= input()\n",
    "si= si.split()\n",
    "si"
   ]
  },
  {
   "cell_type": "code",
   "execution_count": 33,
   "id": "8838c75e-978c-4d89-b482-49f16b8fd9f7",
   "metadata": {},
   "outputs": [
    {
     "data": {
      "text/plain": [
       "{'are', 'the', 'two', 'we'}"
      ]
     },
     "execution_count": 33,
     "metadata": {},
     "output_type": "execute_result"
    }
   ],
   "source": [
    "st = set(si)\n",
    "st"
   ]
  },
  {
   "cell_type": "markdown",
   "id": "f46da1bf-55df-4f7d-94d3-26f110db8202",
   "metadata": {},
   "source": [
    "46. Count the number of syllables in a string."
   ]
  },
  {
   "cell_type": "markdown",
   "id": "02213367-06bd-42e4-a7bd-d18102f927a1",
   "metadata": {},
   "source": [
    "47. Check if a string contains any special characters."
   ]
  },
  {
   "cell_type": "code",
   "execution_count": 20,
   "id": "ab762c0e-e339-4185-a82a-b7d61d1d5c14",
   "metadata": {},
   "outputs": [
    {
     "name": "stdin",
     "output_type": "stream",
     "text": [
      "Enter the string :  *****\n"
     ]
    },
    {
     "name": "stdout",
     "output_type": "stream",
     "text": [
      "Entered String is  *****\n",
      "The string contains special character(s)\n"
     ]
    }
   ],
   "source": [
    "import re #using regex\n",
    "\n",
    "# Getting string input from the user \n",
    "myStr =  input('Enter the string : ')\n",
    "\n",
    "# Checking if a string contains any special character  \n",
    "regularExp = re.compile('[@_!#$%^&*()<>?/\\|}{~:]')\n",
    "\n",
    "# Printing values \n",
    "print(\"Entered String is \", myStr)\n",
    "if(regularExp.search(myStr) == None):\n",
    "    print(\"The string does not contain special character(s)\")\n",
    "else:\n",
    "    print(\"The string contains special character(s)\")"
   ]
  },
  {
   "cell_type": "markdown",
   "id": "ab0b622b-e257-4ad9-b6ad-0490b6168380",
   "metadata": {},
   "source": [
    "\n",
    "48. Remove the nth word from a string.\n",
    "49. Insert a word at the nth position in a string.\n"
   ]
  },
  {
   "cell_type": "code",
   "execution_count": 21,
   "id": "a02fb4a8-0a79-4050-b77d-c997efe9116c",
   "metadata": {},
   "outputs": [
    {
     "name": "stdin",
     "output_type": "stream",
     "text": [
      "Enter a sentence: How about you ?\n"
     ]
    }
   ],
   "source": [
    "s= input(\"Enter a sentence:\")\n",
    "s = s.split()\n",
    " "
   ]
  },
  {
   "cell_type": "code",
   "execution_count": 22,
   "id": "3f63b1af-54de-4dfd-8c33-dc4de5ba0144",
   "metadata": {},
   "outputs": [
    {
     "data": {
      "text/plain": [
       "['How', 'about', 'you', '?']"
      ]
     },
     "execution_count": 22,
     "metadata": {},
     "output_type": "execute_result"
    }
   ],
   "source": [
    "s"
   ]
  },
  {
   "cell_type": "code",
   "execution_count": 23,
   "id": "155e9ec9-5f64-4450-a8c6-791ba56f1842",
   "metadata": {
    "tags": []
   },
   "outputs": [
    {
     "name": "stdin",
     "output_type": "stream",
     "text": [
      "enter n: 3\n"
     ]
    },
    {
     "name": "stdout",
     "output_type": "stream",
     "text": [
      "The new string/sentence is  How about you\n"
     ]
    }
   ],
   "source": [
    "#48) removing nth word in a sentence.\n",
    "n = int(input(\"enter n:\"))\n",
    "if n in range(len(s)):\n",
    "    s.pop(n)\n",
    "    print(\"The new string/sentence is \",(\" \".join(s)))\n",
    "else:\n",
    "    pass\n"
   ]
  },
  {
   "cell_type": "code",
   "execution_count": 24,
   "id": "0bd19536-dc88-4f77-9f93-eec655b7701e",
   "metadata": {},
   "outputs": [
    {
     "name": "stdin",
     "output_type": "stream",
     "text": [
      "enter a word: very\n",
      "enter n: 0\n"
     ]
    },
    {
     "name": "stdout",
     "output_type": "stream",
     "text": [
      "The new string/sentence is  very How about you\n"
     ]
    }
   ],
   "source": [
    "#49) Insert a word at the nth position in a string.\n",
    "word = input(\"enter a word:\")\n",
    "n = int(input(\"enter n:\"))\n",
    "if n in range(len(s)):\n",
    "    s.insert(n, word)\n",
    "    print(\"The new string/sentence is \",(\" \".join(s)))\n",
    "else:\n",
    "    pass\n"
   ]
  },
  {
   "cell_type": "markdown",
   "id": "5bd151d1-89b8-4b55-a42a-66ed5d3d65b4",
   "metadata": {},
   "source": [
    "50. Convert a CSV string to a list of lists."
   ]
  },
  {
   "cell_type": "code",
   "execution_count": 21,
   "id": "ff70ab6c-5467-4118-85f7-11d2f8af1da3",
   "metadata": {},
   "outputs": [
    {
     "data": {
      "text/plain": [
       "['a', 's', 'd', 'd', 'd', 'd', '', 'g', '']"
      ]
     },
     "execution_count": 21,
     "metadata": {},
     "output_type": "execute_result"
    }
   ],
   "source": [
    "s = 'a,s,d,d,d,d,,g,' # enter a comma separated string\n",
    "s = s.split(\",\")  # use split function by using , as delimiter.\n",
    "s"
   ]
  },
  {
   "cell_type": "markdown",
   "id": "f9c63131-c6b7-4890-bf79-9a1baae7f80b",
   "metadata": {},
   "source": [
    "## List based practice problems:"
   ]
  },
  {
   "cell_type": "markdown",
   "id": "6f1bf9e5-c97a-4ccf-8580-52f49fe4ef0e",
   "metadata": {},
   "source": [
    "1. Create a list with integers from 1 to 10."
   ]
  },
  {
   "cell_type": "code",
   "execution_count": 22,
   "id": "8bbd9edc-c481-4da4-974f-eda2b5e225db",
   "metadata": {},
   "outputs": [
    {
     "data": {
      "text/plain": [
       "list[1, 2, 3, 4, 5, 6, 7, 8, 9, 10]"
      ]
     },
     "execution_count": 22,
     "metadata": {},
     "output_type": "execute_result"
    }
   ],
   "source": [
    "l = list[1,2,3,4,5,6,7,8,9,10]\n",
    "l"
   ]
  },
  {
   "cell_type": "markdown",
   "id": "e7fae84d-6d76-46f6-ad65-7a278631bdc2",
   "metadata": {},
   "source": [
    "2. Find the length of a list without using the `len()` function."
   ]
  },
  {
   "cell_type": "code",
   "execution_count": 23,
   "id": "d7e5d841-dbf8-4185-9260-27e6eb4646ee",
   "metadata": {},
   "outputs": [
    {
     "name": "stdin",
     "output_type": "stream",
     "text": [
      "enter: hdhdoqhio\n"
     ]
    },
    {
     "data": {
      "text/plain": [
       "9"
      ]
     },
     "execution_count": 23,
     "metadata": {},
     "output_type": "execute_result"
    }
   ],
   "source": [
    "l = list(input(\"enter:\")) # typecast in to list\n",
    "count = 0\n",
    "for i in l:\n",
    "    count+=1\n",
    "count    "
   ]
  },
  {
   "cell_type": "markdown",
   "id": "78647b00-56b2-4ba5-98eb-4a1fc57e20d4",
   "metadata": {},
   "source": [
    "3. Append an element to the end of a list.\n",
    "4. Insert an element at a specific index in a list.\n",
    "5. Remove an element from a list by its value.\n",
    "6. Remove an element from a list by its index."
   ]
  },
  {
   "cell_type": "code",
   "execution_count": 25,
   "id": "f437ad1f-e0fd-4303-9cec-fa114a464f51",
   "metadata": {},
   "outputs": [
    {
     "data": {
      "text/plain": [
       "[1, 2, 'a', '34']"
      ]
     },
     "execution_count": 25,
     "metadata": {},
     "output_type": "execute_result"
    }
   ],
   "source": [
    "#3)\n",
    "l = [ 1,2,'a']\n",
    "l.append('34')\n",
    "l"
   ]
  },
  {
   "cell_type": "code",
   "execution_count": 26,
   "id": "b35e011b-9963-44d7-99e5-18829125e2fb",
   "metadata": {},
   "outputs": [
    {
     "data": {
      "text/plain": [
       "['Car', 1, 2, 'a', '34']"
      ]
     },
     "execution_count": 26,
     "metadata": {},
     "output_type": "execute_result"
    }
   ],
   "source": [
    "#4)\n",
    "l.insert(0,'Car')\n",
    "l"
   ]
  },
  {
   "cell_type": "code",
   "execution_count": 27,
   "id": "25d80ca0-5ee0-4d41-beef-3ffc1c1016f6",
   "metadata": {},
   "outputs": [
    {
     "data": {
      "text/plain": [
       "['Car', 1, 2, '34']"
      ]
     },
     "execution_count": 27,
     "metadata": {},
     "output_type": "execute_result"
    }
   ],
   "source": [
    "#5)\n",
    "l.remove('a')\n",
    "l"
   ]
  },
  {
   "cell_type": "code",
   "execution_count": 28,
   "id": "bd04f629-f8ab-435d-8514-c31befe7535a",
   "metadata": {},
   "outputs": [
    {
     "data": {
      "text/plain": [
       "['Car', 2, '34']"
      ]
     },
     "execution_count": 28,
     "metadata": {},
     "output_type": "execute_result"
    }
   ],
   "source": [
    "#6)\n",
    "l.pop(1)\n",
    "l"
   ]
  },
  {
   "cell_type": "markdown",
   "id": "583a1ef4-d932-435e-81c4-f9763e6074b5",
   "metadata": {},
   "source": [
    "7. Check if an element exists in a list.\n",
    "\n",
    "8. Find the index of the first occurrence of an element in a list.\n",
    "\n",
    "9. Count the occurrences of an element in a list.\n",
    "\n",
    "10. Reverse the order of elements in a list.\n",
    "\n",
    "11. Sort a list in ascending order.\n",
    "\n",
    "12. Sort a list in descending order."
   ]
  },
  {
   "cell_type": "code",
   "execution_count": 29,
   "id": "75a2804e-6b95-4bd4-b573-40be41905c19",
   "metadata": {},
   "outputs": [
    {
     "name": "stdout",
     "output_type": "stream",
     "text": [
      "not exist\n"
     ]
    }
   ],
   "source": [
    "#7)\n",
    "lst=[ 1, 6, 3, 5, 3, 4 ]\n",
    "i=0\n",
    "if i in lst:\n",
    "    print(\"exist\")\n",
    "else:\n",
    "    print(\"not exist\")"
   ]
  },
  {
   "cell_type": "code",
   "execution_count": 30,
   "id": "b1abd211-4c40-47a0-90d5-e7522ee2ecd5",
   "metadata": {},
   "outputs": [
    {
     "data": {
      "text/plain": [
       "2"
      ]
     },
     "execution_count": 30,
     "metadata": {},
     "output_type": "execute_result"
    }
   ],
   "source": [
    "#8)\n",
    "l =[ 1,2,33,44, 33]\n",
    "l.index(33)"
   ]
  },
  {
   "cell_type": "code",
   "execution_count": 31,
   "id": "2d982bd7-fbc0-40f4-bce5-0a7ff97a3911",
   "metadata": {},
   "outputs": [
    {
     "data": {
      "text/plain": [
       "2"
      ]
     },
     "execution_count": 31,
     "metadata": {},
     "output_type": "execute_result"
    }
   ],
   "source": [
    "#9)\n",
    "l =[ 1,2,33,44, 33]\n",
    "l.count(33)"
   ]
  },
  {
   "cell_type": "code",
   "execution_count": 33,
   "id": "0dc5e287-50e8-473f-83ab-b6f480e2e775",
   "metadata": {},
   "outputs": [
    {
     "data": {
      "text/plain": [
       "[33, 44, 33, 2, 1]"
      ]
     },
     "execution_count": 33,
     "metadata": {},
     "output_type": "execute_result"
    }
   ],
   "source": [
    "#10) Reverse\n",
    "l =[ 1,2,33,44, 33]\n",
    "l.reverse()\n",
    "l"
   ]
  },
  {
   "cell_type": "code",
   "execution_count": 34,
   "id": "c78410b2-9bd4-4386-83e1-3082c5be1ae5",
   "metadata": {},
   "outputs": [
    {
     "data": {
      "text/plain": [
       "[1, 2, 33, 33, 44]"
      ]
     },
     "execution_count": 34,
     "metadata": {},
     "output_type": "execute_result"
    }
   ],
   "source": [
    "#11) Ascending:\n",
    "l =[ 1,2,33,44, 33]\n",
    "l.sort()\n",
    "l"
   ]
  },
  {
   "cell_type": "code",
   "execution_count": 35,
   "id": "4e3bb809-b747-4551-8101-1ad3984dcf5b",
   "metadata": {},
   "outputs": [
    {
     "data": {
      "text/plain": [
       "[44, 33, 33, 2, 1]"
      ]
     },
     "execution_count": 35,
     "metadata": {},
     "output_type": "execute_result"
    }
   ],
   "source": [
    "#12)Descending order:\n",
    "l =[ 1,2,33,44, 33]\n",
    "l.sort(reverse = True)\n",
    "l"
   ]
  },
  {
   "cell_type": "markdown",
   "id": "4dd15d3a-dda8-43b6-8e13-d7a80c011d45",
   "metadata": {},
   "source": [
    "13. Create a list of even numbers from 1 to 20.\n",
    "\n",
    "14. Create a list of odd numbers from 1 to 20.\n",
    "\n",
    "15. Find the sum of all elements in a list.\n",
    "\n",
    "16. Find the maximum value in a list.\n",
    "\n",
    "17. Find the minimum value in a list.\n",
    "\n",
    "18. Create a list of squares of numbers from 1 to 10.\n",
    "19. Create a list of random numbers.\n",
    "\n",
    "20. Remove duplicates from a list."
   ]
  },
  {
   "cell_type": "code",
   "execution_count": 39,
   "id": "687cd7d6-c127-4981-aa14-fd8feacaea03",
   "metadata": {},
   "outputs": [
    {
     "data": {
      "text/plain": [
       "[2, 4, 6, 8, 10, 12, 14, 16, 18, 20]"
      ]
     },
     "execution_count": 39,
     "metadata": {},
     "output_type": "execute_result"
    }
   ],
   "source": [
    "#13)\n",
    "l = []\n",
    "for i in range(1,21):\n",
    "    if (i%2 == 0):\n",
    "        l.append(i)\n",
    "l        "
   ]
  },
  {
   "cell_type": "code",
   "execution_count": 40,
   "id": "93d9da96-7c4a-4e38-a346-017c23c42249",
   "metadata": {},
   "outputs": [
    {
     "data": {
      "text/plain": [
       "[1, 3, 5, 7, 9, 11, 13, 15, 17, 19]"
      ]
     },
     "execution_count": 40,
     "metadata": {},
     "output_type": "execute_result"
    }
   ],
   "source": [
    "#14)\n",
    "l = []\n",
    "for i in range(1,21):\n",
    "    if (i%2 != 0):\n",
    "        l.append(i)\n",
    "l       "
   ]
  },
  {
   "cell_type": "code",
   "execution_count": 41,
   "id": "874f2e24-3277-4414-a117-598c023a4818",
   "metadata": {},
   "outputs": [
    {
     "data": {
      "text/plain": [
       "10"
      ]
     },
     "execution_count": 41,
     "metadata": {},
     "output_type": "execute_result"
    }
   ],
   "source": [
    "#15)\n",
    "l = [1,2,3,4]\n",
    "sum(l)"
   ]
  },
  {
   "cell_type": "code",
   "execution_count": 43,
   "id": "4d2cfe64-33a8-4af1-9074-8a730713f712",
   "metadata": {},
   "outputs": [
    {
     "data": {
      "text/plain": [
       "99"
      ]
     },
     "execution_count": 43,
     "metadata": {},
     "output_type": "execute_result"
    }
   ],
   "source": [
    "#16)\n",
    "l = [1,2,3,99]\n",
    "max(l)"
   ]
  },
  {
   "cell_type": "code",
   "execution_count": 44,
   "id": "4734ae6c-b3a3-45f7-8393-475b6979b697",
   "metadata": {},
   "outputs": [
    {
     "data": {
      "text/plain": [
       "1"
      ]
     },
     "execution_count": 44,
     "metadata": {},
     "output_type": "execute_result"
    }
   ],
   "source": [
    "#17)\n",
    "l = [1,2,3,99]\n",
    "min(l)"
   ]
  },
  {
   "cell_type": "code",
   "execution_count": 46,
   "id": "ec099472-59df-49af-943c-460cc5eddb0e",
   "metadata": {},
   "outputs": [
    {
     "data": {
      "text/plain": [
       "[1, 4, 9, 16, 25, 36, 49, 64, 81, 100]"
      ]
     },
     "execution_count": 46,
     "metadata": {},
     "output_type": "execute_result"
    }
   ],
   "source": [
    "#18)\n",
    "l = []\n",
    "for i in range(1,11):\n",
    "        l.append(i**2)\n",
    "l        "
   ]
  },
  {
   "cell_type": "code",
   "execution_count": 48,
   "id": "6c56d6f0-bae1-4949-860a-3af882966477",
   "metadata": {},
   "outputs": [
    {
     "data": {
      "text/plain": [
       "[93, 29, 64, 20, 18, 92, 90, 35, 61, 54]"
      ]
     },
     "execution_count": 48,
     "metadata": {},
     "output_type": "execute_result"
    }
   ],
   "source": [
    "#19) Create a list of random numbers:\n",
    "import random  # import random library\n",
    "l = random.sample(range(1,100),10)\n",
    "l"
   ]
  },
  {
   "cell_type": "code",
   "execution_count": 49,
   "id": "7771ad57-3d00-4ae6-a153-dacc9da441c9",
   "metadata": {},
   "outputs": [
    {
     "data": {
      "text/plain": [
       "{1, 2, 33, 44}"
      ]
     },
     "execution_count": 49,
     "metadata": {},
     "output_type": "execute_result"
    }
   ],
   "source": [
    "#20)\n",
    "l = [1,2,2,33,44]\n",
    "l = set(l)\n",
    "l"
   ]
  },
  {
   "cell_type": "markdown",
   "id": "232a32b1-a04e-475f-b91b-7d44241a2d6a",
   "metadata": {},
   "source": [
    "21. Find the common elements between two lists.\n",
    "\n",
    "22. Find the difference between two lists.\n",
    "\n",
    "23. Merge two lists.\n",
    "24. Multiply all elements in a list by 2.\n",
    "25. Filter out all even numbers from a list."
   ]
  },
  {
   "cell_type": "code",
   "execution_count": 53,
   "id": "1074ca35-fa6d-4111-b19b-0c12738aa7f1",
   "metadata": {},
   "outputs": [
    {
     "data": {
      "text/plain": [
       "[2, 33]"
      ]
     },
     "execution_count": 53,
     "metadata": {},
     "output_type": "execute_result"
    }
   ],
   "source": [
    "# 21)\n",
    "l1 =[1,2,33,44,6]\n",
    "l2 =[2,23,33,5,7,8]\n",
    "result = []\n",
    "for element in l1:\n",
    "    if element in l2:\n",
    "        result.append(element)\n",
    "result            "
   ]
  },
  {
   "cell_type": "code",
   "execution_count": 59,
   "id": "93cad5d3-d41a-45e3-b790-d15e788ebf6f",
   "metadata": {},
   "outputs": [
    {
     "data": {
      "text/plain": [
       "[33, 2]"
      ]
     },
     "execution_count": 59,
     "metadata": {},
     "output_type": "execute_result"
    }
   ],
   "source": [
    "#OR we can use set intersection:\n",
    "ll = list(set(l1).intersection(l2)) # insection between a set and a list .\n",
    "ll"
   ]
  },
  {
   "cell_type": "code",
   "execution_count": 67,
   "id": "2782d8c6-b58a-4682-80fc-3f7b00d66a95",
   "metadata": {},
   "outputs": [
    {
     "data": {
      "text/plain": [
       "[1, 44, 6, 23, 5, 7]"
      ]
     },
     "execution_count": 67,
     "metadata": {},
     "output_type": "execute_result"
    }
   ],
   "source": [
    "#22) Difference ####\n",
    "l1 =[1,2,33,44,6]\n",
    "l2 =[2,23,33,5,7]\n",
    "l=[]\n",
    "for i in l1+l2:\n",
    "    if i not in l2 or i not in l1:\n",
    "        l.append(i)\n",
    "l        \n",
    "        "
   ]
  },
  {
   "cell_type": "code",
   "execution_count": 68,
   "id": "73655f4a-b3c2-4b2c-b5f7-f541e5ebd21a",
   "metadata": {},
   "outputs": [
    {
     "data": {
      "text/plain": [
       "[1, 2, 33, 44, 6, 2, 23, 33, 5, 7]"
      ]
     },
     "execution_count": 68,
     "metadata": {},
     "output_type": "execute_result"
    }
   ],
   "source": [
    "#23) Merge two lists\n",
    "l1 =[1,2,33,44,6]\n",
    "l2 =[2,23,33,5,7]\n",
    "l1+l2"
   ]
  },
  {
   "cell_type": "code",
   "execution_count": 70,
   "id": "3dec29f4-d07e-49d9-b5d7-ea16838c07c8",
   "metadata": {},
   "outputs": [
    {
     "data": {
      "text/plain": [
       "[2, 4, 66, 88, 12]"
      ]
     },
     "execution_count": 70,
     "metadata": {},
     "output_type": "execute_result"
    }
   ],
   "source": [
    "#)24\n",
    "l1 =[1,2,33,44,6]\n",
    "l=[]\n",
    "for i in l1:\n",
    "    l.append(i*2)\n",
    "l    "
   ]
  },
  {
   "cell_type": "code",
   "execution_count": null,
   "id": "4d2405f5-2216-4d08-912d-c0a4d78b483f",
   "metadata": {},
   "outputs": [],
   "source": [
    "#25)\n",
    "l = [1,2,4,5,6,8]\n",
    "for i in l:\n",
    "    if (i%2 == 0):\n",
    "        l.append(i)\n",
    "l       "
   ]
  },
  {
   "cell_type": "markdown",
   "id": "7a94ff52-48a5-4e3b-a2ea-96e7a5120a9f",
   "metadata": {},
   "source": [
    "26. Convert a list of strings to a list of integers.\n",
    "27. Convert a list of integers to a list of strings.\n",
    "28. Flatten a nested list.\n",
    "\n",
    "29. Create a list of the first 10 Fibonacci numbers.\n",
    "\n",
    "30. Check if a list is sorted.\n",
    "\n",
    "31. Rotate a list to the left by `n` positions.\n",
    "32. Rotate a list to the right by `n` positions.\n",
    "33. Create a list of prime numbers up to 50."
   ]
  },
  {
   "cell_type": "code",
   "execution_count": 1,
   "id": "233cebc8-6bb6-45c4-a18c-61d2515be58f",
   "metadata": {},
   "outputs": [
    {
     "data": {
      "text/plain": [
       "[2, 3, 44]"
      ]
     },
     "execution_count": 1,
     "metadata": {},
     "output_type": "execute_result"
    }
   ],
   "source": [
    "#26)\n",
    "l = ['2', '3', '44']\n",
    "l2=[]\n",
    "for i in l:\n",
    "    l2.append(int(i))\n",
    "l2    "
   ]
  },
  {
   "cell_type": "code",
   "execution_count": null,
   "id": "0b331af0-01f3-42ff-a087-daadef5cab77",
   "metadata": {},
   "outputs": [],
   "source": [
    "#27)\n",
    "l = [3,6,7,8,9]\n",
    "l2=[]\n",
    "for i in l:\n",
    "    l2.append(str(i))\n",
    "l2    "
   ]
  },
  {
   "cell_type": "code",
   "execution_count": 1,
   "id": "6bead1e9-2267-4ae5-927b-6134001cc918",
   "metadata": {},
   "outputs": [
    {
     "data": {
      "text/plain": [
       "[1, 2, 3, 4]"
      ]
     },
     "execution_count": 1,
     "metadata": {},
     "output_type": "execute_result"
    }
   ],
   "source": [
    "#28)\n",
    "#Faltten a nested list:\n",
    "l = [1, [2,3,4]]\n",
    "ll=[]\n",
    "for i in l:\n",
    "    if type(i) is list:\n",
    "        for element in i:\n",
    "            ll.append(element)\n",
    "    else:\n",
    "        ll.append(i)\n",
    "ll        \n",
    "            \n",
    "        \n",
    "        "
   ]
  },
  {
   "cell_type": "code",
   "execution_count": 5,
   "id": "a6fc51fa-e275-4ca0-ac4d-b99e2e1dd19b",
   "metadata": {},
   "outputs": [
    {
     "name": "stdout",
     "output_type": "stream",
     "text": [
      "first ten Fibonacci numbers are:  [0, 1, 1, 2, 3, 5, 8, 13, 21, 34]\n"
     ]
    }
   ],
   "source": [
    "#29) Fibonacci\n",
    "l=[0,1]\n",
    "n = 10\n",
    "while len(l)<n:\n",
    "    next= l[len(l)-1] + l[len(l)-2]\n",
    "    l.append(next)\n",
    "print(\"first ten Fibonacci numbers are: \", l)"
   ]
  },
  {
   "cell_type": "code",
   "execution_count": 41,
   "id": "6e58c50a-b0c7-4d9e-97bb-f18dec870af0",
   "metadata": {},
   "outputs": [
    {
     "name": "stdout",
     "output_type": "stream",
     "text": [
      "No\n"
     ]
    }
   ],
   "source": [
    "#30) If a list is sorted?\n",
    "l = [1,2,3,44,5]\n",
    "if(l == sorted(l)):\n",
    "    print(\"Yes\")\n",
    "else:\n",
    "    print(\"No\")"
   ]
  },
  {
   "cell_type": "code",
   "execution_count": 11,
   "id": "64725153-7b3a-4f9a-9cc9-ec5d115b982e",
   "metadata": {},
   "outputs": [
    {
     "data": {
      "text/plain": [
       "[5, 6, 1, 2, 3, 4]"
      ]
     },
     "execution_count": 11,
     "metadata": {},
     "output_type": "execute_result"
    }
   ],
   "source": [
    "#31) rotate the list Right by 2 numbers.\n",
    "\n",
    "list_1 = [1,2,3,4,5,6]\n",
    "list_2 = list_1[-2:] + list_1[:-2]\n",
    "list_2"
   ]
  },
  {
   "cell_type": "code",
   "execution_count": 8,
   "id": "3e16998e-3253-4ddd-bc50-8f5ffbcd9c20",
   "metadata": {},
   "outputs": [
    {
     "data": {
      "text/plain": [
       "[4, 5, 6, 1, 2, 3]"
      ]
     },
     "execution_count": 8,
     "metadata": {},
     "output_type": "execute_result"
    }
   ],
   "source": [
    "#32) rotate the list LEFT by 3 numbers # LEFT side comes to the end.\n",
    "list_1 = [1,2,3,4,5,6]\n",
    "list_2 = list_1[3:] + list_1[:3]\n",
    "list_2"
   ]
  },
  {
   "cell_type": "code",
   "execution_count": 22,
   "id": "99f0068a-c9cd-4f66-b912-b2b2e078fff8",
   "metadata": {},
   "outputs": [
    {
     "data": {
      "text/plain": [
       "[2, 3, 5, 7, 11, 13, 17, 19, 23, 29, 31, 37, 41, 43, 47]"
      ]
     },
     "execution_count": 22,
     "metadata": {},
     "output_type": "execute_result"
    }
   ],
   "source": [
    "# 33) prime numbers in a range:\n",
    "l=[]\n",
    "flag = 0\n",
    "for i in range(2, 50):#elements range between starting and ending range\n",
    "    for j in range(2,i): \n",
    "        if(i%j==0):     #checking if number is divisible or not\n",
    "            flag=1        #if number is divisible, then flag variable will become 1\n",
    "            break\n",
    "        else:\n",
    "            flag=0     \n",
    "    if(flag==0):    #if flag variable is 0, then element will append in list \n",
    "        l.append(i)\n",
    "l        \n",
    "        "
   ]
  },
  {
   "cell_type": "markdown",
   "id": "f38c0410-5059-409e-ad23-06b7b128273f",
   "metadata": {},
   "source": [
    "34. Split a list into chunks of size `n`.\n",
    "35. Find the second largest number in a list.\n",
    "36. Replace every element in a list with its square.\n",
    "37. Convert a list to a dictionary where list elements become keys and their\n",
    "indices become values.\n",
    "\n",
    "38. Shuffle the elements of a list randomly.\n",
    "39. Create a list of the first 10 factorial numbers."
   ]
  },
  {
   "cell_type": "code",
   "execution_count": 38,
   "id": "b4f9ba1b-b729-4760-b1ef-d16da63c4904",
   "metadata": {},
   "outputs": [
    {
     "data": {
      "text/plain": [
       "[[1, 2], [3, 4], [5, 67]]"
      ]
     },
     "execution_count": 38,
     "metadata": {},
     "output_type": "execute_result"
    }
   ],
   "source": [
    "#34)\n",
    "l = [1,2,3,4,5,67]\n",
    "la =[]\n",
    "chunk_size = 2\n",
    "for i in range(0,len(l), chunk_size):\n",
    "    la.append(l[i:(i + chunk_size)])\n",
    "    \n",
    "la"
   ]
  },
  {
   "cell_type": "code",
   "execution_count": 45,
   "id": "5354f5a5-27ea-4c53-82c7-7d5e6433859d",
   "metadata": {},
   "outputs": [
    {
     "data": {
      "text/plain": [
       "5"
      ]
     },
     "execution_count": 45,
     "metadata": {},
     "output_type": "execute_result"
    }
   ],
   "source": [
    "#35)\n",
    "l = [1,2,3,4,5,67]\n",
    "l.sort(reverse = True)\n",
    "l[1]"
   ]
  },
  {
   "cell_type": "code",
   "execution_count": 46,
   "id": "4322cd33-530c-44a9-a451-546acb58ecff",
   "metadata": {},
   "outputs": [
    {
     "data": {
      "text/plain": [
       "[1, 4, 9, 16, 25, 4489]"
      ]
     },
     "execution_count": 46,
     "metadata": {},
     "output_type": "execute_result"
    }
   ],
   "source": [
    "#36)\n",
    "l = [1,2,3,4,5,67]\n",
    "for i in range(0,len(l)):\n",
    "    l[i] = (l[i])**2\n",
    "l    "
   ]
  },
  {
   "cell_type": "code",
   "execution_count": 50,
   "id": "01a52073-4390-4076-acbf-1b5ac4fe1ed0",
   "metadata": {},
   "outputs": [
    {
     "data": {
      "text/plain": [
       "{1: 0, 2: 1, 3: 2, 4: 3, 5: 4, 67: 5}"
      ]
     },
     "execution_count": 50,
     "metadata": {},
     "output_type": "execute_result"
    }
   ],
   "source": [
    "#37)\n",
    "l = [1,2,3,4,5,67,67]\n",
    "dic = {}\n",
    "for i in l:\n",
    "    dic[i] = l.index(i)\n",
    "dic    "
   ]
  },
  {
   "cell_type": "code",
   "execution_count": 51,
   "id": "f69d1d0c-a6ed-4f1f-af14-196611c0aaa1",
   "metadata": {},
   "outputs": [
    {
     "data": {
      "text/plain": [
       "[2, 67, 1, 5, 4, 3]"
      ]
     },
     "execution_count": 51,
     "metadata": {},
     "output_type": "execute_result"
    }
   ],
   "source": [
    "#38)\n",
    "import random\n",
    "l= [1,2,3,4,5,67]\n",
    "random.sample(l,6)\n"
   ]
  },
  {
   "cell_type": "code",
   "execution_count": 55,
   "id": "3af1f521-71ec-4add-9480-d66f2cc5f392",
   "metadata": {},
   "outputs": [
    {
     "data": {
      "text/plain": [
       "[1, 2, 6, 24, 120, 720, 5040, 40320, 362880, 3628800]"
      ]
     },
     "execution_count": 55,
     "metadata": {},
     "output_type": "execute_result"
    }
   ],
   "source": [
    "#39) Factorial\n",
    "l=[]\n",
    "factorial = 1\n",
    "for i in range(1,11):\n",
    "    factorial = factorial*i\n",
    "    l.append(factorial)\n",
    "l        \n",
    "#print(\"The factorial of\",10,\"is\",factorial)\n"
   ]
  },
  {
   "cell_type": "markdown",
   "id": "a934da7d-78fb-4526-ba18-79a4858e2c50",
   "metadata": {},
   "source": [
    "40. Check if two lists have at least one element in common.\n",
    "\n",
    "41. Remove all elements from a list.\n",
    "\n",
    "42. Replace negative numbers in a list with 0.\n",
    "43. Convert a string into a list of words.\n",
    "44. Convert a list of words into a string.\n",
    "45. Create a list of the first `n` powers of 2.\n",
    "46. Find the longest string in a list of strings.\n",
    "47. Find the shortest string in a list of strings.\n",
    "48. Create a list of the first `n` triangular numbers.\n",
    "49. Check if a list contains another list as a subsequence.\n",
    "50. Swap two elements in a list by their indices."
   ]
  },
  {
   "cell_type": "code",
   "execution_count": 79,
   "id": "10b392e4-83ec-428c-bf5c-acd94dff7458",
   "metadata": {},
   "outputs": [
    {
     "name": "stdout",
     "output_type": "stream",
     "text": [
      "2 element(s) in common\n"
     ]
    }
   ],
   "source": [
    "#40)\n",
    "l1 = [1,2,3,4,5,6]\n",
    "l2 =[1,2,7,8,9,0]\n",
    "k = set(l1).intersection(l2)\n",
    "if len(k) == 0:\n",
    "    \n",
    "    print(\"no element in commom\")\n",
    "else:\n",
    "    print( len(k) ,\"element(s) in common\")"
   ]
  },
  {
   "cell_type": "code",
   "execution_count": 80,
   "id": "fd979124-679b-4326-a49c-59de87559b9c",
   "metadata": {},
   "outputs": [],
   "source": [
    "#41)\n",
    "l1 = [1,2,3,4,5,6]\n",
    "l1.clear()"
   ]
  },
  {
   "cell_type": "code",
   "execution_count": 81,
   "id": "3d28e48b-67cd-4d22-a57a-7d988b014200",
   "metadata": {},
   "outputs": [
    {
     "data": {
      "text/plain": [
       "[]"
      ]
     },
     "execution_count": 81,
     "metadata": {},
     "output_type": "execute_result"
    }
   ],
   "source": [
    "l1"
   ]
  },
  {
   "cell_type": "code",
   "execution_count": 85,
   "id": "d6dc8ded-9161-4abf-b55d-f33b9967c3c8",
   "metadata": {},
   "outputs": [
    {
     "data": {
      "text/plain": [
       "[1, 2, 3, 4, 5, 0]"
      ]
     },
     "execution_count": 85,
     "metadata": {},
     "output_type": "execute_result"
    }
   ],
   "source": [
    "#42)\n",
    "l1 = [1,2,3,4,5,-46]\n",
    "for i in range(0,len(l1)):\n",
    "    if l1[i]< 0:\n",
    "        l1[i] = 0\n",
    "l1        "
   ]
  },
  {
   "cell_type": "code",
   "execution_count": 86,
   "id": "cc20bc54-620c-4ed1-8989-764aef88b74b",
   "metadata": {},
   "outputs": [
    {
     "name": "stdin",
     "output_type": "stream",
     "text": [
      " how are you doing\n"
     ]
    },
    {
     "data": {
      "text/plain": [
       "['how', 'are', 'you', 'doing']"
      ]
     },
     "execution_count": 86,
     "metadata": {},
     "output_type": "execute_result"
    }
   ],
   "source": [
    "#43)\n",
    "s = input()\n",
    "l = s.split()\n",
    "l"
   ]
  },
  {
   "cell_type": "code",
   "execution_count": 87,
   "id": "c570b953-e62c-4cc6-9fde-edd4b79987ee",
   "metadata": {},
   "outputs": [
    {
     "name": "stdin",
     "output_type": "stream",
     "text": [
      " frfjlerfj\n"
     ]
    },
    {
     "data": {
      "text/plain": [
       "['f', 'r', 'f', 'j', 'l', 'e', 'r', 'f', 'j']"
      ]
     },
     "execution_count": 87,
     "metadata": {},
     "output_type": "execute_result"
    }
   ],
   "source": [
    "s = input()\n",
    "l = list(s)\n",
    "l"
   ]
  },
  {
   "cell_type": "code",
   "execution_count": 89,
   "id": "6a216da7-afa4-45fe-966e-ea2f541ca5e1",
   "metadata": {},
   "outputs": [
    {
     "data": {
      "text/plain": [
       "'there was a'"
      ]
     },
     "execution_count": 89,
     "metadata": {},
     "output_type": "execute_result"
    }
   ],
   "source": [
    "#44)\n",
    "l =[\"there\",\"was\", \"a\"]\n",
    "s = \" \".join(l)\n",
    "s"
   ]
  },
  {
   "cell_type": "code",
   "execution_count": 92,
   "id": "e24e1a9d-a41d-4104-90c8-fcd6c0c83541",
   "metadata": {},
   "outputs": [
    {
     "name": "stdin",
     "output_type": "stream",
     "text": [
      "enter n: 6\n"
     ]
    },
    {
     "data": {
      "text/plain": [
       "[1, 2, 4, 8, 16, 32]"
      ]
     },
     "execution_count": 92,
     "metadata": {},
     "output_type": "execute_result"
    }
   ],
   "source": [
    "#45)\n",
    "n = int(input(\"enter n:\"))\n",
    "l =[]\n",
    "for i in range(0,n):\n",
    "    l.append(2**i)\n",
    "l    "
   ]
  },
  {
   "cell_type": "code",
   "execution_count": 95,
   "id": "06ba6d96-070d-45c7-a0af-0df0ac21c4b5",
   "metadata": {},
   "outputs": [
    {
     "data": {
      "text/plain": [
       "'nednewidwe'"
      ]
     },
     "execution_count": 95,
     "metadata": {},
     "output_type": "execute_result"
    }
   ],
   "source": [
    "#46) longest string\n",
    "l = [\"there\",\"was\", \"a\", \"nednewidwe\"]\n",
    "max(l, key = len)"
   ]
  },
  {
   "cell_type": "code",
   "execution_count": 96,
   "id": "01ec6803-6a5b-454f-b7db-a823d73be4e1",
   "metadata": {},
   "outputs": [
    {
     "data": {
      "text/plain": [
       "'we'"
      ]
     },
     "execution_count": 96,
     "metadata": {},
     "output_type": "execute_result"
    }
   ],
   "source": [
    "#47)\n",
    "l = [\"there\",\"was\", \"we\", \"nednewidwe\"]\n",
    "min(l, key = len)"
   ]
  },
  {
   "cell_type": "code",
   "execution_count": 100,
   "id": "81ed3316-c6a1-419f-9657-b8a234c459b2",
   "metadata": {},
   "outputs": [
    {
     "name": "stdin",
     "output_type": "stream",
     "text": [
      "enter n: 10\n"
     ]
    },
    {
     "data": {
      "text/plain": [
       "[1, 3, 6, 10, 15, 21, 28, 36, 45]"
      ]
     },
     "execution_count": 100,
     "metadata": {},
     "output_type": "execute_result"
    }
   ],
   "source": [
    "#48) Triangular nos.\n",
    "n = int(input(\"enter n:\"))\n",
    "l =[]\n",
    "for i in range(1,n):\n",
    "    l.append(i*(i+1)//2)\n",
    "l    "
   ]
  },
  {
   "cell_type": "code",
   "execution_count": 117,
   "id": "51aa34be-a6eb-45d4-9c78-420f9e5d9b07",
   "metadata": {},
   "outputs": [
    {
     "data": {
      "text/plain": [
       "True"
      ]
     },
     "execution_count": 117,
     "metadata": {},
     "output_type": "execute_result"
    }
   ],
   "source": [
    "#49)\n",
    "l=[1,2,3,4,6,77,77,8,9]\n",
    "l2 = [9,8,77] # to check if l contains l2:\n",
    "if set(l2).intersection(set(l)) == set(l2):\n",
    "    res = True\n",
    "else:\n",
    "    res = False\n",
    "res    "
   ]
  },
  {
   "cell_type": "code",
   "execution_count": 101,
   "id": "782775b4-3d14-428b-9084-b2a248fbf429",
   "metadata": {},
   "outputs": [
    {
     "data": {
      "text/plain": [
       "[2, 1, 3, 4]"
      ]
     },
     "execution_count": 101,
     "metadata": {},
     "output_type": "execute_result"
    }
   ],
   "source": [
    "#50)\n",
    "l =[1,2,3,4]\n",
    "l[0],l[1] = l[1],l[0]\n",
    "l"
   ]
  },
  {
   "cell_type": "markdown",
   "id": "fc0f56fa-27ea-4aeb-afce-1a645453acce",
   "metadata": {},
   "source": [
    "## Tuple Based Practice Problem"
   ]
  },
  {
   "cell_type": "markdown",
   "id": "60f3ad32-9e54-418e-a84b-62ff1ab5e1d2",
   "metadata": {},
   "source": [
    "1. Create a tuple with integers from 1 to 5.\n",
    "2. Access the third element of a tuple.\n",
    "3. Find the length of a tuple without using the `len()` function.\n",
    "4. Count the occurrences of an element in a tuple.\n",
    "5. Find the index of the first occurrence of an element in a tuple.\n",
    "6. Check if an element exists in a tuple.\n",
    "7. Convert a tuple to a list.\n",
    "8. Convert a list to a tuple.\n",
    "9. Unpack the elements of a tuple into variables.\n",
    "10. Create a tuple of even numbers from 1 to 10."
   ]
  },
  {
   "cell_type": "code",
   "execution_count": 120,
   "id": "5ba6bd9b-b51d-417c-bb76-33e31cfdeba4",
   "metadata": {},
   "outputs": [
    {
     "data": {
      "text/plain": [
       "tuple"
      ]
     },
     "execution_count": 120,
     "metadata": {},
     "output_type": "execute_result"
    }
   ],
   "source": [
    "#1)\n",
    "t = (1,2,3,4,5)\n",
    "type(t)"
   ]
  },
  {
   "cell_type": "code",
   "execution_count": 121,
   "id": "d5c954b9-dd81-4bf0-b1d6-dff902ff6cb0",
   "metadata": {},
   "outputs": [
    {
     "data": {
      "text/plain": [
       "3"
      ]
     },
     "execution_count": 121,
     "metadata": {},
     "output_type": "execute_result"
    }
   ],
   "source": [
    "#2)\n",
    "t[2]"
   ]
  },
  {
   "cell_type": "code",
   "execution_count": 122,
   "id": "4e22215b-d310-4d18-a9a1-2aa78baee557",
   "metadata": {},
   "outputs": [
    {
     "data": {
      "text/plain": [
       "5"
      ]
     },
     "execution_count": 122,
     "metadata": {},
     "output_type": "execute_result"
    }
   ],
   "source": [
    "#3) Length of tuple\n",
    "count = 0\n",
    "for i in t:\n",
    "    count = count+1\n",
    "count    "
   ]
  },
  {
   "cell_type": "code",
   "execution_count": 123,
   "id": "1195acd5-8297-459e-93f4-b73ac4058acb",
   "metadata": {},
   "outputs": [
    {
     "data": {
      "text/plain": [
       "4"
      ]
     },
     "execution_count": 123,
     "metadata": {},
     "output_type": "execute_result"
    }
   ],
   "source": [
    "#4)\n",
    "t = (1,2,3,4,5,5,5,5)\n",
    "t.count(5)\n"
   ]
  },
  {
   "cell_type": "code",
   "execution_count": 124,
   "id": "119756fb-f7b1-4d92-8cb2-37039e147b56",
   "metadata": {},
   "outputs": [
    {
     "data": {
      "text/plain": [
       "4"
      ]
     },
     "execution_count": 124,
     "metadata": {},
     "output_type": "execute_result"
    }
   ],
   "source": [
    "#5)\n",
    "t.index(5)"
   ]
  },
  {
   "cell_type": "code",
   "execution_count": 143,
   "id": "d9fafced-6d4f-40e6-b50e-9fa7387a9788",
   "metadata": {},
   "outputs": [
    {
     "data": {
      "text/plain": [
       "{1, 2}"
      ]
     },
     "execution_count": 143,
     "metadata": {},
     "output_type": "execute_result"
    }
   ],
   "source": [
    "#6) Check if [1,2] is in tuple\n",
    "t = (1,2,3,4,5,5,5,5)\n",
    "l = [1,2]\n",
    "set(l).intersection(t)"
   ]
  },
  {
   "cell_type": "code",
   "execution_count": 144,
   "id": "5d851cda-fac9-4b23-b877-a1f8c4d2bb24",
   "metadata": {},
   "outputs": [
    {
     "data": {
      "text/plain": [
       "[1, 2, 3, 4, 5, 5, 5, 5]"
      ]
     },
     "execution_count": 144,
     "metadata": {},
     "output_type": "execute_result"
    }
   ],
   "source": [
    "#7)\n",
    "t = (1,2,3,4,5,5,5,5)\n",
    "l = list(t)\n",
    "l"
   ]
  },
  {
   "cell_type": "code",
   "execution_count": 145,
   "id": "55d6057b-fa02-4728-bb58-37be6809757a",
   "metadata": {},
   "outputs": [
    {
     "data": {
      "text/plain": [
       "(1, 2, 3, 4, 5, 5, 5, 5)"
      ]
     },
     "execution_count": 145,
     "metadata": {},
     "output_type": "execute_result"
    }
   ],
   "source": [
    "#8)\n",
    "l = [1,2,3,4,5,5,5,5]\n",
    "t = tuple(l)\n",
    "t\n"
   ]
  },
  {
   "cell_type": "code",
   "execution_count": 147,
   "id": "00a7c4e2-8ace-4279-bf36-53c0440284f7",
   "metadata": {},
   "outputs": [
    {
     "name": "stdout",
     "output_type": "stream",
     "text": [
      "Neha\n",
      "student\n"
     ]
    }
   ],
   "source": [
    "#9) Unpacking elements of Tuple in to a variable:\n",
    "t =(\"Neha\",\"student\")\n",
    "(Name,Profession) = t\n",
    "print(Name)\n",
    "print(Profession)\n"
   ]
  },
  {
   "cell_type": "code",
   "execution_count": 150,
   "id": "e25c2a6c-8003-47fd-95d2-a11a4b527013",
   "metadata": {},
   "outputs": [
    {
     "name": "stdout",
     "output_type": "stream",
     "text": [
      "(2, 4, 6, 8, 10)\n"
     ]
    }
   ],
   "source": [
    "#10)\n",
    "l =[]\n",
    "for i in range(1,11):\n",
    "    if i%2 == 0:\n",
    "        l.append(i)\n",
    "print(tuple(l))"
   ]
  },
  {
   "cell_type": "markdown",
   "id": "d9048494-3a5c-4789-bda8-88904d5cfffd",
   "metadata": {},
   "source": [
    "11. Create a tuple of odd numbers from 1 to 10.\n",
    "12. Concatenate two tuples.\n",
    "13. Repeat a tuple three times.\n",
    "14. Check if a tuple is empty.\n",
    "15. Create a nested tuple.\n",
    "16. Access the first element of a nested tuple.\n",
    "17. Create a tuple with a single element.\n",
    "18. Compare two tuples.\n",
    "19. Delete a tuple.\n",
    "20. Slice a tuple."
   ]
  },
  {
   "cell_type": "code",
   "execution_count": 1,
   "id": "ce741af5-3410-44cc-8e23-4c3ff6229ccd",
   "metadata": {},
   "outputs": [
    {
     "name": "stdout",
     "output_type": "stream",
     "text": [
      "(1, 3, 5, 7, 9)\n"
     ]
    }
   ],
   "source": [
    "#11)\n",
    "l=[]\n",
    "for i in range(1,11):\n",
    "    if i%2 != 0:\n",
    "        l.append(i)\n",
    "print(tuple(l))        "
   ]
  },
  {
   "cell_type": "code",
   "execution_count": 2,
   "id": "bd01dca0-3afb-4920-bdc0-daa765d55581",
   "metadata": {},
   "outputs": [
    {
     "data": {
      "text/plain": [
       "(1, 2, 3, 4, 5, 6)"
      ]
     },
     "execution_count": 2,
     "metadata": {},
     "output_type": "execute_result"
    }
   ],
   "source": [
    "#12)\n",
    "t1 = (1,2,3)\n",
    "t2= (4,5,6)\n",
    "t1+t2"
   ]
  },
  {
   "cell_type": "code",
   "execution_count": 3,
   "id": "8cb016c8-64dc-41b7-8e5d-52e97b5a86d8",
   "metadata": {},
   "outputs": [
    {
     "data": {
      "text/plain": [
       "(1, 2, 3, 1, 2, 3, 1, 2, 3)"
      ]
     },
     "execution_count": 3,
     "metadata": {},
     "output_type": "execute_result"
    }
   ],
   "source": [
    "#13)\n",
    "t1 = (1,2,3)\n",
    "t1*3"
   ]
  },
  {
   "cell_type": "code",
   "execution_count": 6,
   "id": "1d9061b1-c55b-496a-bacd-399548dcb319",
   "metadata": {},
   "outputs": [
    {
     "name": "stdout",
     "output_type": "stream",
     "text": [
      "empty tuple\n"
     ]
    }
   ],
   "source": [
    "#14)\n",
    "t1 = ()\n",
    "if len(t1) == 0:\n",
    "    print(\"empty tuple\")"
   ]
  },
  {
   "cell_type": "code",
   "execution_count": 10,
   "id": "104f5444-feae-4855-ab0b-dfd40241af69",
   "metadata": {},
   "outputs": [
    {
     "data": {
      "text/plain": [
       "tuple"
      ]
     },
     "execution_count": 10,
     "metadata": {},
     "output_type": "execute_result"
    }
   ],
   "source": [
    "#15)\n",
    "t1 =(3,4,5,(3,5),5)\n",
    "type(t1)"
   ]
  },
  {
   "cell_type": "code",
   "execution_count": 11,
   "id": "65d4496d-fcef-4950-9577-39cc337f8d7a",
   "metadata": {},
   "outputs": [
    {
     "data": {
      "text/plain": [
       "3"
      ]
     },
     "execution_count": 11,
     "metadata": {},
     "output_type": "execute_result"
    }
   ],
   "source": [
    "#16)\n",
    "t1[3][0]\n",
    "    "
   ]
  },
  {
   "cell_type": "code",
   "execution_count": 14,
   "id": "0d103ad8-c5b8-42e5-b96b-2df1ad103cbf",
   "metadata": {},
   "outputs": [
    {
     "data": {
      "text/plain": [
       "tuple"
      ]
     },
     "execution_count": 14,
     "metadata": {},
     "output_type": "execute_result"
    }
   ],
   "source": [
    "#17\n",
    "t1=(5,)\n",
    "type(t1)"
   ]
  },
  {
   "cell_type": "code",
   "execution_count": null,
   "id": "cd6ab179-4cae-4300-8f45-dd9d0dfcf667",
   "metadata": {},
   "outputs": [],
   "source": [
    "#18)"
   ]
  },
  {
   "cell_type": "code",
   "execution_count": 20,
   "id": "74709c65-b518-4220-bc27-29bb23c522c6",
   "metadata": {},
   "outputs": [
    {
     "name": "stdout",
     "output_type": "stream",
     "text": [
      "('tutorials', 2022, True)\n"
     ]
    }
   ],
   "source": [
    "#19)\n",
    "tup=('tutorials', 2022,True)\n",
    "print(tup)\n",
    "del(tup) # del function is used to delete a tuple"
   ]
  },
  {
   "cell_type": "code",
   "execution_count": 21,
   "id": "a9a6dc53-b79d-4619-adc0-c21afd35381f",
   "metadata": {},
   "outputs": [
    {
     "data": {
      "text/plain": [
       "(2022,)"
      ]
     },
     "execution_count": 21,
     "metadata": {},
     "output_type": "execute_result"
    }
   ],
   "source": [
    "#20)\n",
    "tup=('tutorials', 2022,True)\n",
    "tup[1:2]\n",
    "#As tuples are immutable, we cannot delete a slice of a tuple."
   ]
  },
  {
   "cell_type": "markdown",
   "id": "8e70537c-1b72-4b06-9f4c-f508dff095bf",
   "metadata": {},
   "source": [
    "21. Find the maximum value in a tuple.\n",
    "22. Find the minimum value in a tuple.\n",
    "23. Convert a string to a tuple of characters.\n",
    "24. Convert a tuple of characters to a string.\n",
    "25. Create a tuple from multiple data types.\n",
    "26. Check if two tuples are identical.\n",
    "27. Sort the elements of a tuple.\n",
    "28. Convert a tuple of integers to a tuple of strings.\n",
    "29. Convert a tuple of strings to a tuple of integers.\n",
    "30. Merge two tuples.\n",
    "31. Flatten a nested tuple.\n",
    "32. Create a tuple of the first 5 prime numbers.\n",
    "33. Check if a tuple is a palindrome.\n",
    "34. Create a tuple of squares of numbers from 1 to 5.\n",
    "35. Filter out all even numbers from a tuple.\n",
    "36. Multiply all elements in a tuple by 2."
   ]
  },
  {
   "cell_type": "code",
   "execution_count": 24,
   "id": "293eaa63-3199-4308-95cb-b063003deb82",
   "metadata": {},
   "outputs": [
    {
     "data": {
      "text/plain": [
       "45"
      ]
     },
     "execution_count": 24,
     "metadata": {},
     "output_type": "execute_result"
    }
   ],
   "source": [
    "#21)\n",
    "t = (1,2,3,45)\n",
    "max(t)"
   ]
  },
  {
   "cell_type": "code",
   "execution_count": 27,
   "id": "f6781d12-7261-4d84-a1cd-5e98b67b0bb3",
   "metadata": {},
   "outputs": [
    {
     "data": {
      "text/plain": [
       "'aacrossed'"
      ]
     },
     "execution_count": 27,
     "metadata": {},
     "output_type": "execute_result"
    }
   ],
   "source": [
    "t = ('a', 'abat','aacrossed')\n",
    "max(t, key = len)"
   ]
  },
  {
   "cell_type": "code",
   "execution_count": 1,
   "id": "63396c45-c3fd-4ac1-8658-b2f8f5eabbbb",
   "metadata": {},
   "outputs": [
    {
     "data": {
      "text/plain": [
       "'a'"
      ]
     },
     "execution_count": 1,
     "metadata": {},
     "output_type": "execute_result"
    }
   ],
   "source": [
    "#22)\n",
    "t = ('a', 'abat','aacrossed')\n",
    "min(t, key = len)"
   ]
  },
  {
   "cell_type": "code",
   "execution_count": 2,
   "id": "55a59aee-3232-4aec-b0e2-925354966e20",
   "metadata": {},
   "outputs": [
    {
     "data": {
      "text/plain": [
       "('a', 'b', 'a', 'd')"
      ]
     },
     "execution_count": 2,
     "metadata": {},
     "output_type": "execute_result"
    }
   ],
   "source": [
    "#23)\n",
    "s = 'abad'\n",
    "t = tuple(s)\n",
    "t"
   ]
  },
  {
   "cell_type": "code",
   "execution_count": 4,
   "id": "d9ab745d-0c8f-40ee-9234-e8f7d8b14d1c",
   "metadata": {},
   "outputs": [
    {
     "data": {
      "text/plain": [
       "'abad'"
      ]
     },
     "execution_count": 4,
     "metadata": {},
     "output_type": "execute_result"
    }
   ],
   "source": [
    "#24)\n",
    "st = \"\".join(t)\n",
    "st"
   ]
  },
  {
   "cell_type": "code",
   "execution_count": 5,
   "id": "e3bbca96-498b-459b-a370-f8ca8db15d84",
   "metadata": {},
   "outputs": [],
   "source": [
    "#25)\n",
    "t = (\"a\",1,\"abde\",[1,2,3])"
   ]
  },
  {
   "cell_type": "code",
   "execution_count": 6,
   "id": "c5ef0974-37c0-4254-a333-df78422eb5a4",
   "metadata": {},
   "outputs": [
    {
     "data": {
      "text/plain": [
       "tuple"
      ]
     },
     "execution_count": 6,
     "metadata": {},
     "output_type": "execute_result"
    }
   ],
   "source": [
    "type(t)"
   ]
  },
  {
   "cell_type": "code",
   "execution_count": 12,
   "id": "44c9fa85-bc97-4348-b27e-90c793cd603d",
   "metadata": {},
   "outputs": [
    {
     "name": "stdout",
     "output_type": "stream",
     "text": [
      "not identical\n"
     ]
    }
   ],
   "source": [
    "#26)\n",
    "t1 =(1,2,3)\n",
    "t2 =('d','f','g')\n",
    "if set(t1).intersection(t2) == set():\n",
    "    print(\"not identical\")"
   ]
  },
  {
   "cell_type": "code",
   "execution_count": 18,
   "id": "79e8aa74-a313-4caf-ba6a-bc29129f1ecd",
   "metadata": {},
   "outputs": [
    {
     "name": "stdout",
     "output_type": "stream",
     "text": [
      "identical\n"
     ]
    }
   ],
   "source": [
    "t1 =(1,2,3)\n",
    "t2 =(1,2,3)\n",
    "if t1 == t2 :\n",
    "    print(\"identical\")\n",
    "else:\n",
    "    print(\"non identical\")"
   ]
  },
  {
   "cell_type": "code",
   "execution_count": 20,
   "id": "905f5a39-9d24-413b-9d87-369d83a1db12",
   "metadata": {},
   "outputs": [
    {
     "data": {
      "text/plain": [
       "[1, 2, 3]"
      ]
     },
     "execution_count": 20,
     "metadata": {},
     "output_type": "execute_result"
    }
   ],
   "source": [
    "#27)\n",
    "sorted(t1)"
   ]
  },
  {
   "cell_type": "code",
   "execution_count": 25,
   "id": "7d471256-e9d4-43c4-b6b9-b91e6b10d318",
   "metadata": {},
   "outputs": [
    {
     "data": {
      "text/plain": [
       "('1', '2', '3', '4')"
      ]
     },
     "execution_count": 25,
     "metadata": {},
     "output_type": "execute_result"
    }
   ],
   "source": [
    "#28)\n",
    "t =(1,2,3,4)\n",
    "l2 =[]\n",
    "for i in t:\n",
    "    l2.append(str(i))\n",
    "l2    \n",
    "t2 =tuple(l2)\n",
    "t2"
   ]
  },
  {
   "cell_type": "code",
   "execution_count": 26,
   "id": "8326188d-10bc-4ba0-b92a-e489602b059d",
   "metadata": {},
   "outputs": [
    {
     "data": {
      "text/plain": [
       "(1, 2, 3, 4)"
      ]
     },
     "execution_count": 26,
     "metadata": {},
     "output_type": "execute_result"
    }
   ],
   "source": [
    "#29)\n",
    "t =('1','2','3','4')\n",
    "l2 =[]\n",
    "for i in t:\n",
    "    l2.append(int(i))\n",
    "l2    \n",
    "t2 =tuple(l2)\n",
    "t2"
   ]
  },
  {
   "cell_type": "code",
   "execution_count": 27,
   "id": "4d70efb2-ef34-4a0c-904e-8e0e49f0d01f",
   "metadata": {},
   "outputs": [
    {
     "data": {
      "text/plain": [
       "('1', '2', '3', '4', 'd', 'f', 'g')"
      ]
     },
     "execution_count": 27,
     "metadata": {},
     "output_type": "execute_result"
    }
   ],
   "source": [
    "#30)\n",
    "t1 =('1','2','3','4')\n",
    "t2 =('d','f','g')\n",
    "t1 + t2"
   ]
  },
  {
   "cell_type": "code",
   "execution_count": 31,
   "id": "69151b80-22b7-4428-92b5-d1180402096f",
   "metadata": {},
   "outputs": [
    {
     "data": {
      "text/plain": [
       "['d', 'f', 'g', '1', '2', '3', '4']"
      ]
     },
     "execution_count": 31,
     "metadata": {},
     "output_type": "execute_result"
    }
   ],
   "source": [
    "#31)\n",
    "t= ('d','f','g',('1','2','3','4'))\n",
    "l = []\n",
    "for i in t:\n",
    "    if (type(i) != tuple):\n",
    "        l.append(i)\n",
    "    else:\n",
    "        for element in i:\n",
    "            l.append(element)\n",
    "l            "
   ]
  },
  {
   "cell_type": "code",
   "execution_count": 40,
   "id": "364403fb-c653-4a51-a80c-8e7518c6596b",
   "metadata": {},
   "outputs": [
    {
     "data": {
      "text/plain": [
       "[3, 5, 7, 11, 13]"
      ]
     },
     "execution_count": 40,
     "metadata": {},
     "output_type": "execute_result"
    }
   ],
   "source": [
    "#32) first 5 prime nos.\n",
    "l=[]\n",
    "for i in range(2,15):\n",
    "    for j in range(2,i):\n",
    "        if i%j == 0:\n",
    "            flag = 1\n",
    "            break\n",
    "        else:\n",
    "            flag =0\n",
    "            \n",
    "    if flag == 0:\n",
    "            l.append(i)\n",
    "l            "
   ]
  },
  {
   "cell_type": "code",
   "execution_count": 46,
   "id": "9cf8c049-9507-4c73-969a-22c46cb65f88",
   "metadata": {},
   "outputs": [
    {
     "data": {
      "text/plain": [
       "(1, 2, 2, 1)"
      ]
     },
     "execution_count": 46,
     "metadata": {},
     "output_type": "execute_result"
    }
   ],
   "source": [
    "#33) palindrome tuple:\n",
    "t = ( 1,2,2,1)\n",
    "t_reverse = t[::-1]\n",
    "t_reverse"
   ]
  },
  {
   "cell_type": "code",
   "execution_count": 47,
   "id": "b501e958-d189-4eb7-a953-78f076416d7f",
   "metadata": {},
   "outputs": [
    {
     "name": "stdout",
     "output_type": "stream",
     "text": [
      " tuple is a palindrome\n"
     ]
    }
   ],
   "source": [
    "if t == t_reverse :\n",
    "    print( \" tuple is a palindrome\")\n",
    "else:\n",
    "    print( \" tuple is not a palindrome\")"
   ]
  },
  {
   "cell_type": "code",
   "execution_count": 49,
   "id": "9bd85599-d0e8-4f93-b535-dedadd474602",
   "metadata": {},
   "outputs": [
    {
     "data": {
      "text/plain": [
       "(1, 4, 9, 16, 25)"
      ]
     },
     "execution_count": 49,
     "metadata": {},
     "output_type": "execute_result"
    }
   ],
   "source": [
    "#34)\n",
    "t =(1,2,3,4,5)\n",
    "l=[]\n",
    "for i in t:\n",
    "    l.append(i**2)\n",
    "t1 = tuple(l)\n",
    "t1"
   ]
  },
  {
   "cell_type": "code",
   "execution_count": 52,
   "id": "5f0c516f-c95b-4240-9b74-27c0c00a2db9",
   "metadata": {},
   "outputs": [
    {
     "name": "stdout",
     "output_type": "stream",
     "text": [
      "even nos. are [4, 16]\n"
     ]
    }
   ],
   "source": [
    "#35)\n",
    "t1 = (1, 4, 9, 16, 25)\n",
    "l=[]\n",
    "for i in t1:\n",
    "    if i%2 == 0:\n",
    "        l.append(i)\n",
    "print(\"even nos. are\", l)       "
   ]
  },
  {
   "cell_type": "code",
   "execution_count": 53,
   "id": "532d53a8-4aa4-403a-a524-94b5e40a77d2",
   "metadata": {},
   "outputs": [
    {
     "data": {
      "text/plain": [
       "(2, 4, 6, 8, 10)"
      ]
     },
     "execution_count": 53,
     "metadata": {},
     "output_type": "execute_result"
    }
   ],
   "source": [
    "#36)\n",
    "t =(1,2,3,4,5)\n",
    "l=[]\n",
    "for i in t:\n",
    "    l.append(i*2)\n",
    "t1 = tuple(l)\n",
    "t1"
   ]
  },
  {
   "cell_type": "markdown",
   "id": "ff3d0c1f-fdb4-4c68-a56d-a1699663eb0f",
   "metadata": {},
   "source": [
    "37. Create a tuple of random numbers.\n",
    "38. Check if a tuple is sorted.\n",
    "39. Rotate a tuple to the left by `n` positions.\n",
    "40. Rotate a tuple to the right by `n` positions.\n",
    "41. Create a tuple of the first 5 Fibonacci numbers.\n",
    "42. Create a tuple from user input.\n",
    "43. Swap two elements in a tuple.\n",
    "44. Reverse the elements of a tuple.\n",
    "45. Create a tuple of the first `n` powers of 2.\n",
    "46. Find the longest string in a tuple of strings.\n",
    "47. Find the shortest string in a tuple of strings.\n",
    "48. Create a tuple of the first `n` triangular numbers.\n",
    "49. Check if a tuple contains another tuple as a subsequence.\n",
    "50. Create a tuple of alternating 1s and 0s of length `n`."
   ]
  },
  {
   "cell_type": "code",
   "execution_count": 55,
   "id": "7e17cef6-ab53-4826-a811-e4392f7a2c4f",
   "metadata": {},
   "outputs": [
    {
     "data": {
      "text/plain": [
       "[4, 6, 2, 1]"
      ]
     },
     "execution_count": 55,
     "metadata": {},
     "output_type": "execute_result"
    }
   ],
   "source": [
    "#37)\n",
    "import random\n",
    "t =(1,2,3,4,5,6)\n",
    "random.sample(t, 4)"
   ]
  },
  {
   "cell_type": "code",
   "execution_count": 57,
   "id": "31cfc8dc-3809-433c-be8e-dfac0d2ee1b8",
   "metadata": {},
   "outputs": [
    {
     "data": {
      "text/plain": [
       "3"
      ]
     },
     "execution_count": 57,
     "metadata": {},
     "output_type": "execute_result"
    }
   ],
   "source": [
    "random.randint(3,8)"
   ]
  },
  {
   "cell_type": "code",
   "execution_count": 59,
   "id": "381bde6d-361c-4a7f-a6ce-56aac4fc95c3",
   "metadata": {},
   "outputs": [
    {
     "data": {
      "text/plain": [
       "(2, 4, 3, 1)"
      ]
     },
     "execution_count": 59,
     "metadata": {},
     "output_type": "execute_result"
    }
   ],
   "source": [
    "tt = tuple(random.sample(t, 4))\n",
    "tt"
   ]
  },
  {
   "cell_type": "code",
   "execution_count": 64,
   "id": "de9f628c-17b0-41b2-b92f-d910cc22f8c9",
   "metadata": {},
   "outputs": [
    {
     "name": "stdout",
     "output_type": "stream",
     "text": [
      "no\n"
     ]
    }
   ],
   "source": [
    "#38)\n",
    "t =(1,2,3,9,5,6)\n",
    "t2= sorted(t) \n",
    "if t == t2:\n",
    "    print(\"yes\")\n",
    "else:\n",
    "    print(\"no\")"
   ]
  },
  {
   "cell_type": "code",
   "execution_count": 65,
   "id": "48b95c4a-f5ae-4aa7-8f82-58a6651a542f",
   "metadata": {},
   "outputs": [],
   "source": [
    "#39) rotate  left by 3 positions.\n",
    "t =(1,2,3,9,5,6)\n",
    "t2 =t[3:] + t[:3] "
   ]
  },
  {
   "cell_type": "code",
   "execution_count": 66,
   "id": "70fa33d8-7311-4c2f-830f-0c700d5916f0",
   "metadata": {},
   "outputs": [
    {
     "data": {
      "text/plain": [
       "(9, 5, 6, 1, 2, 3)"
      ]
     },
     "execution_count": 66,
     "metadata": {},
     "output_type": "execute_result"
    }
   ],
   "source": [
    "t2"
   ]
  },
  {
   "cell_type": "code",
   "execution_count": 67,
   "id": "8f90223f-f125-4023-ad97-2a124526fafd",
   "metadata": {},
   "outputs": [
    {
     "data": {
      "text/plain": [
       "(1, 2, 3, 9, 5, 6)"
      ]
     },
     "execution_count": 67,
     "metadata": {},
     "output_type": "execute_result"
    }
   ],
   "source": [
    "#40)rotate right by 3 positions.\n",
    "t =(9, 5, 6, 1, 2, 3)\n",
    "#t2 =t[3:] + t[:3]\n",
    "t[-3:] + t[:-3]"
   ]
  },
  {
   "cell_type": "code",
   "execution_count": 2,
   "id": "8adbc3e9-f6b6-43c0-9b99-526334a1812c",
   "metadata": {},
   "outputs": [
    {
     "data": {
      "text/plain": [
       "(0, 1, 1, 2, 3)"
      ]
     },
     "execution_count": 2,
     "metadata": {},
     "output_type": "execute_result"
    }
   ],
   "source": [
    "#41)Fibonacci\n",
    "l =  [ 0,1]\n",
    "n= 5\n",
    "while len(l)<n:\n",
    "    next = l[len(l)-1] + l[len(l)-2]\n",
    "    l.append(next)\n",
    "tuple(l)    "
   ]
  },
  {
   "cell_type": "code",
   "execution_count": 6,
   "id": "db3da45a-ba36-47a8-a49b-dc7b38f6a6df",
   "metadata": {},
   "outputs": [
    {
     "name": "stdin",
     "output_type": "stream",
     "text": [
      "enter: \n"
     ]
    }
   ],
   "source": [
    "#42)\n",
    "t = tuple(input(\"enter:\"))\n"
   ]
  },
  {
   "cell_type": "code",
   "execution_count": 4,
   "id": "9bdec6df-2d6b-4e8e-ad5d-6b5431832962",
   "metadata": {},
   "outputs": [
    {
     "data": {
      "text/plain": [
       "('h', 'o', 'w', ' ', 'a', 'r', 'e', ' ', 'y', 'o', 'u')"
      ]
     },
     "execution_count": 4,
     "metadata": {},
     "output_type": "execute_result"
    }
   ],
   "source": [
    "t"
   ]
  },
  {
   "cell_type": "code",
   "execution_count": 10,
   "id": "111f3280-5649-4065-8b94-a5e5d7f1731d",
   "metadata": {},
   "outputs": [],
   "source": [
    "#43)\n",
    "t = (1,2,3,4)\n",
    "# tuple does not support item assignment.\n",
    "l = list(t)\n",
    "l[0],l[1] = l[1],l[0]\n",
    "t = tuple(l)\n"
   ]
  },
  {
   "cell_type": "code",
   "execution_count": 11,
   "id": "79e7cd4d-28b3-4386-9e50-1fa9b8611888",
   "metadata": {},
   "outputs": [
    {
     "data": {
      "text/plain": [
       "(2, 1, 3, 4)"
      ]
     },
     "execution_count": 11,
     "metadata": {},
     "output_type": "execute_result"
    }
   ],
   "source": [
    "t"
   ]
  },
  {
   "cell_type": "code",
   "execution_count": 18,
   "id": "fd92f04d-7590-4367-a4d2-7582724e0f86",
   "metadata": {},
   "outputs": [
    {
     "data": {
      "text/plain": [
       "[1, 2, 3, 4]"
      ]
     },
     "execution_count": 18,
     "metadata": {},
     "output_type": "execute_result"
    }
   ],
   "source": [
    "#44)\n",
    "t = (1,2,3,4)\n",
    "# tuple does not support item assignment.\n",
    "l = list(t)\n",
    "l"
   ]
  },
  {
   "cell_type": "code",
   "execution_count": 19,
   "id": "68336548-3755-4d62-919a-6d40e391dab0",
   "metadata": {},
   "outputs": [],
   "source": [
    "t = tuple(l[::-1])"
   ]
  },
  {
   "cell_type": "code",
   "execution_count": 20,
   "id": "2d23aa1d-5f41-4766-8ce6-33988dbbdc3d",
   "metadata": {},
   "outputs": [
    {
     "data": {
      "text/plain": [
       "(4, 3, 2, 1)"
      ]
     },
     "execution_count": 20,
     "metadata": {},
     "output_type": "execute_result"
    }
   ],
   "source": [
    "t"
   ]
  },
  {
   "cell_type": "code",
   "execution_count": 21,
   "id": "7eea0b95-33ef-4600-b63b-ae9db07776d0",
   "metadata": {},
   "outputs": [
    {
     "data": {
      "text/plain": [
       "(1, 2, 4, 8, 16, 32)"
      ]
     },
     "execution_count": 21,
     "metadata": {},
     "output_type": "execute_result"
    }
   ],
   "source": [
    "#45)\n",
    "n = 5\n",
    "l=[]\n",
    "for i in range(n+1):\n",
    "    l.append(2**i)\n",
    "tuple(l )   "
   ]
  },
  {
   "cell_type": "code",
   "execution_count": 23,
   "id": "56604cda-a413-441b-87f1-6a7728d27583",
   "metadata": {},
   "outputs": [
    {
     "data": {
      "text/plain": [
       "'doggy'"
      ]
     },
     "execution_count": 23,
     "metadata": {},
     "output_type": "execute_result"
    }
   ],
   "source": [
    "#46)\n",
    "t = ( \"cat\",\"doggy\",\"wet\",\"fat\")\n",
    "longest_string = max(t,key = len)\n",
    "longest_string"
   ]
  },
  {
   "cell_type": "code",
   "execution_count": 24,
   "id": "d8bf8fef-577f-4801-8f1d-ca6018622495",
   "metadata": {},
   "outputs": [
    {
     "data": {
      "text/plain": [
       "'cat'"
      ]
     },
     "execution_count": 24,
     "metadata": {},
     "output_type": "execute_result"
    }
   ],
   "source": [
    "#47)\n",
    "t = ( \"cat\",\"doggy\",\"wet\",\"fat\")\n",
    "shortest_string = min(t,key = len)\n",
    "shortest_string"
   ]
  },
  {
   "cell_type": "code",
   "execution_count": 27,
   "id": "eb2f1d87-2a95-4e04-a33e-a3353c90806a",
   "metadata": {},
   "outputs": [
    {
     "data": {
      "text/plain": [
       "[1, 3, 6, 10, 15]"
      ]
     },
     "execution_count": 27,
     "metadata": {},
     "output_type": "execute_result"
    }
   ],
   "source": [
    "#48) triangular nos. first n\n",
    "n =5\n",
    "l=[]\n",
    "for i in range(1,n+1):\n",
    "    l.append(i*(i+1)//2)\n",
    "l"
   ]
  },
  {
   "cell_type": "code",
   "execution_count": 29,
   "id": "d518e097-0599-474d-bcf9-0b8bdb6a4cd6",
   "metadata": {},
   "outputs": [
    {
     "data": {
      "text/plain": [
       "(1, 3, 6, 10, 15)"
      ]
     },
     "execution_count": 29,
     "metadata": {},
     "output_type": "execute_result"
    }
   ],
   "source": [
    "t= tuple(l)\n",
    "t"
   ]
  },
  {
   "cell_type": "code",
   "execution_count": 37,
   "id": "89a20336-b786-483a-ae54-bd9c89c28e3f",
   "metadata": {},
   "outputs": [
    {
     "data": {
      "text/plain": [
       "set()"
      ]
     },
     "execution_count": 37,
     "metadata": {},
     "output_type": "execute_result"
    }
   ],
   "source": [
    "#49) # tuple contains another tuple as sequence:\n",
    "t = (1,2,3,(4,5,6),9)\n",
    "t2 = (4,5,6)\n",
    "set(t2).intersection(t)\n"
   ]
  },
  {
   "cell_type": "code",
   "execution_count": 38,
   "id": "20208f90-ea7b-4e95-a034-57e40254a6f2",
   "metadata": {},
   "outputs": [
    {
     "name": "stdout",
     "output_type": "stream",
     "text": [
      "yes\n"
     ]
    }
   ],
   "source": [
    "if t2 in t:\n",
    "    print(\"yes\")"
   ]
  },
  {
   "cell_type": "code",
   "execution_count": 39,
   "id": "fb47cebf-1f05-488b-9cfb-56947ca52732",
   "metadata": {},
   "outputs": [
    {
     "data": {
      "text/plain": [
       "True"
      ]
     },
     "execution_count": 39,
     "metadata": {},
     "output_type": "execute_result"
    }
   ],
   "source": [
    "\n",
    "tup1 = (10, 4, 5, 6)\n",
    "tup2 = (5, 10)\n",
    "res = set(tup2).issubset(tup1)\n",
    "res"
   ]
  },
  {
   "cell_type": "code",
   "execution_count": 42,
   "id": "fced4b71-f54e-48b3-89ae-066ee88e41a7",
   "metadata": {},
   "outputs": [
    {
     "data": {
      "text/plain": [
       "[1, 0, 1, 0, 1, 0, 1, 0, 1]"
      ]
     },
     "execution_count": 42,
     "metadata": {},
     "output_type": "execute_result"
    }
   ],
   "source": [
    "#50) Tuple of alternating 1, 0 of length 9\n",
    "l=[]\n",
    "n = 9\n",
    "for i in range(1,n+1):\n",
    "    if i%2 != 0:\n",
    "        l.append(1)\n",
    "    else:\n",
    "        l.append(0)\n",
    "l        "
   ]
  },
  {
   "cell_type": "code",
   "execution_count": 44,
   "id": "743ebaff-a185-42c2-9744-3a2bac6fbfcc",
   "metadata": {},
   "outputs": [
    {
     "data": {
      "text/plain": [
       "(1, 0, 1, 0, 1, 0, 1, 0, 1)"
      ]
     },
     "execution_count": 44,
     "metadata": {},
     "output_type": "execute_result"
    }
   ],
   "source": [
    "t = tuple(l)\n",
    "t"
   ]
  },
  {
   "cell_type": "markdown",
   "id": "c4c8d9b1-d7a0-482c-8f7b-f8114cef42a5",
   "metadata": {},
   "source": [
    "## Set Based Practice Problem :"
   ]
  },
  {
   "cell_type": "markdown",
   "id": "2c8aaa63-13ad-4f67-bb7c-cb492c4b616f",
   "metadata": {},
   "source": [
    "1. Create a set with integers from 1 to 5.\n",
    "2. Add an element to a set.\n",
    "\n",
    "3. Remove an element from a set.\n",
    "\n",
    "4. Check if an element exists in a set.\n",
    "\n",
    "5. Find the length of a set without using the `len()` function.\n",
    "6. Clear all elements from a set.\n",
    "\n",
    "7. Create a set of even numbers from 1 to 10.\n",
    "\n",
    "8. Create a set of odd numbers from 1 to 10.\n",
    "\n",
    "9. Find the union of two sets.\n",
    "\n",
    "10. Find the intersection of two sets.\n",
    "\n",
    "11. Find the difference between two sets.\n",
    "\n",
    "12. Check if a set is a subset of another set.\n",
    "\n",
    "13. Check if a set is a superset of another set.\n",
    "14. Create a set from a list.\n",
    "\n",
    "15. Convert a set to a list."
   ]
  },
  {
   "cell_type": "markdown",
   "id": "a1ee3c1c-268c-47a8-9328-e21e7bab3cd0",
   "metadata": {},
   "source": [
    "16. Remove a random element from a set.\n",
    "\n",
    "17. Pop an element from a set.\n",
    "18. Check if two sets have no elements in common.\n",
    "\n",
    "19. Find the symmetric difference between two sets.\n",
    "20. Update a set with elements from another set."
   ]
  },
  {
   "cell_type": "code",
   "execution_count": 45,
   "id": "5da925b9-10a8-44dd-bffe-5b7a2310b1f9",
   "metadata": {},
   "outputs": [],
   "source": [
    "#1)\n",
    "s ={1,2,3,4,5}"
   ]
  },
  {
   "cell_type": "code",
   "execution_count": 46,
   "id": "4775176b-0816-4afe-94a6-0535b38d49ef",
   "metadata": {},
   "outputs": [
    {
     "data": {
      "text/plain": [
       "{1, 2, 3, 4, 5, 99}"
      ]
     },
     "execution_count": 46,
     "metadata": {},
     "output_type": "execute_result"
    }
   ],
   "source": [
    "#2)\n",
    "s.add(99)\n",
    "s"
   ]
  },
  {
   "cell_type": "code",
   "execution_count": 47,
   "id": "39b89528-3b98-4dca-be97-fd6005fb4f21",
   "metadata": {},
   "outputs": [
    {
     "data": {
      "text/plain": [
       "{1, 3, 4, 5, 99}"
      ]
     },
     "execution_count": 47,
     "metadata": {},
     "output_type": "execute_result"
    }
   ],
   "source": [
    "#3)\n",
    "s.remove(2)\n",
    "s"
   ]
  },
  {
   "cell_type": "code",
   "execution_count": null,
   "id": "ea3c9782-bf97-453d-9ce4-e05c3e396462",
   "metadata": {},
   "outputs": [],
   "source": [
    "#4)"
   ]
  }
 ],
 "metadata": {
  "kernelspec": {
   "display_name": "Python 3 (ipykernel)",
   "language": "python",
   "name": "python3"
  },
  "language_info": {
   "codemirror_mode": {
    "name": "ipython",
    "version": 3
   },
   "file_extension": ".py",
   "mimetype": "text/x-python",
   "name": "python",
   "nbconvert_exporter": "python",
   "pygments_lexer": "ipython3",
   "version": "3.10.8"
  }
 },
 "nbformat": 4,
 "nbformat_minor": 5
}
