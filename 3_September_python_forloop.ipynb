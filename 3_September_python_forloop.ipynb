{
 "cells": [
  {
   "cell_type": "markdown",
   "id": "32811a76-517c-4c0c-9284-7d14f11ff3e4",
   "metadata": {},
   "source": [
    "## Python for loop assignment"
   ]
  },
  {
   "cell_type": "markdown",
   "id": "efef7ced-1694-4688-a478-3a2a5e72a0d3",
   "metadata": {},
   "source": [
    "Basic Level:\n",
    "1. Write a Python program to print the numbers from 1 to 10 using a `for` loop.\n",
    "2. Create a program that calculates the sum of all numbers in a list using a `for` loop.\n",
    "3. Write a program to print the characters of a string in reverse order using a `for` loop.\n",
    "4. Develop a program that finds the factorial of a given number using a `for` loop.\n",
    "5. Create a program to print the multiplication table of a given number using a `for` loop.\n",
    "6. Write a program that counts the number of even and odd numbers in a list using a `for` loop.\n",
    "7. Develop a program that prints the squares of numbers from 1 to 5 using a `for` loop.\n",
    "8. Create a program to find the length of a string without using the `len()` function.\n",
    "9. Write a program that calculates the average of a list of numbers using a `for` loop.\n",
    "10. Develop a program that prints the first `n` Fibonacci numbers using a `for` loop."
   ]
  },
  {
   "cell_type": "code",
   "execution_count": 1,
   "id": "9c5dff3d-5ab1-4104-92d9-a6d49c891d8e",
   "metadata": {
    "collapsed": true,
    "jupyter": {
     "outputs_hidden": true
    },
    "tags": []
   },
   "outputs": [
    {
     "name": "stdout",
     "output_type": "stream",
     "text": [
      "1\n",
      "2\n",
      "3\n",
      "4\n",
      "5\n",
      "6\n",
      "7\n",
      "8\n",
      "9\n",
      "10\n"
     ]
    }
   ],
   "source": [
    "#1)\n",
    "for i in range(1,11):\n",
    "    print(i)"
   ]
  },
  {
   "cell_type": "code",
   "execution_count": 2,
   "id": "4a7eedc3-5179-42ad-bb29-30b23731da3c",
   "metadata": {},
   "outputs": [
    {
     "data": {
      "text/plain": [
       "21"
      ]
     },
     "execution_count": 2,
     "metadata": {},
     "output_type": "execute_result"
    }
   ],
   "source": [
    "#2)\n",
    "l = [1,2,3,4,5,6]\n",
    "sum = 0\n",
    "for i in l:\n",
    "    sum = sum +i\n",
    "sum    \n",
    "    "
   ]
  },
  {
   "cell_type": "code",
   "execution_count": 2,
   "id": "c06f7a67-de99-43b0-b131-b4e72154cbe3",
   "metadata": {},
   "outputs": [
    {
     "data": {
      "text/plain": [
       "'edcba'"
      ]
     },
     "execution_count": 2,
     "metadata": {},
     "output_type": "execute_result"
    }
   ],
   "source": [
    "#3)\n",
    "s =\"abcde\"\n",
    "st =\"\"\n",
    "for i in s:\n",
    "    st = i + st\n",
    "st    \n",
    "    \n",
    "    "
   ]
  },
  {
   "cell_type": "code",
   "execution_count": 7,
   "id": "e7a49784-4494-4427-95cc-8dbeb3f374cb",
   "metadata": {},
   "outputs": [
    {
     "data": {
      "text/plain": [
       "362880"
      ]
     },
     "execution_count": 7,
     "metadata": {},
     "output_type": "execute_result"
    }
   ],
   "source": [
    "#4) ten factorial\n",
    "fact =1\n",
    "for i in range(1,10):\n",
    "    fact = fact*i\n",
    "fact    \n",
    "    "
   ]
  },
  {
   "cell_type": "code",
   "execution_count": 1,
   "id": "51e81ba2-f334-4b86-ae37-686ce9726e99",
   "metadata": {},
   "outputs": [
    {
     "name": "stdout",
     "output_type": "stream",
     "text": [
      "1 2 3 4 5 6 7 8 9 \n",
      "2 4 6 8 10 12 14 16 18 \n",
      "3 6 9 12 15 18 21 24 27 \n",
      "4 8 12 16 20 24 28 32 36 \n"
     ]
    }
   ],
   "source": [
    "#5)\n",
    "for i in range(1,5):\n",
    "    for j in range(1,10):\n",
    "        print( i*j, end=\" \")\n",
    "    print()    "
   ]
  },
  {
   "cell_type": "code",
   "execution_count": 3,
   "id": "dee530d2-f9e1-4edf-b14b-7612473852fa",
   "metadata": {},
   "outputs": [
    {
     "name": "stdout",
     "output_type": "stream",
     "text": [
      "count_even 2\n",
      "count_odd 5\n"
     ]
    }
   ],
   "source": [
    "#6)\n",
    "l = [1,2,3,4,5,7,9]\n",
    "count_even = 0\n",
    "count_odd = 0\n",
    "for i in l:\n",
    "    if i%2 == 0:\n",
    "        count_even = count_even+1\n",
    "    else:\n",
    "        count_odd = count_odd +1\n",
    "print(\"count_even\", count_even)\n",
    "print(\"count_odd\", count_odd)\n",
    "        "
   ]
  },
  {
   "cell_type": "code",
   "execution_count": 5,
   "id": "c7b3fc46-e0a6-4bec-82f7-5c0d0e9c4922",
   "metadata": {},
   "outputs": [
    {
     "name": "stdout",
     "output_type": "stream",
     "text": [
      "1\n",
      "4\n",
      "9\n",
      "16\n",
      "25\n"
     ]
    }
   ],
   "source": [
    "#7)\n",
    "for i in range(1,6):\n",
    "    print(i**2)\n",
    "    "
   ]
  },
  {
   "cell_type": "code",
   "execution_count": 7,
   "id": "3c0b4713-0ecc-4647-a341-4a443119d5b1",
   "metadata": {},
   "outputs": [
    {
     "name": "stdin",
     "output_type": "stream",
     "text": [
      " abcde99\n"
     ]
    },
    {
     "name": "stdout",
     "output_type": "stream",
     "text": [
      "length of the string is  7\n"
     ]
    }
   ],
   "source": [
    "#8)\n",
    "s = input()\n",
    "count = 0 \n",
    "for i in s:\n",
    "    count = count+1\n",
    "print(\"length of the string is \", count)    "
   ]
  },
  {
   "cell_type": "code",
   "execution_count": 9,
   "id": "9300320d-a4e7-4153-ba6c-eaff096b1956",
   "metadata": {},
   "outputs": [
    {
     "data": {
      "text/plain": [
       "5.0"
      ]
     },
     "execution_count": 9,
     "metadata": {},
     "output_type": "execute_result"
    }
   ],
   "source": [
    "#9)\n",
    "l = [1,2,3,4,5,6,7,8,9]\n",
    "sum = 0\n",
    "for i in range(len(l)):\n",
    "    sum = sum + l[i] \n",
    "avg = sum/len(l)\n",
    "avg"
   ]
  },
  {
   "cell_type": "code",
   "execution_count": 13,
   "id": "116da5a3-1d4d-4632-86e9-b90213fb6d96",
   "metadata": {},
   "outputs": [
    {
     "data": {
      "text/plain": [
       "[0, 1, 1, 2, 3, 5, 8, 13, 21, 34, 55]"
      ]
     },
     "execution_count": 13,
     "metadata": {},
     "output_type": "execute_result"
    }
   ],
   "source": [
    "#10) Fibonacci series:\n",
    "l =[0,1]\n",
    "next_num = 0\n",
    "for i in range(1, 10):\n",
    "    next_num = l[len(l)-1] + l[len(l)-2] # next number is the sum of last 2 nos. in series.\n",
    "    l.append(next_num)\n",
    "l    \n"
   ]
  },
  {
   "cell_type": "markdown",
   "id": "7bd90ae0-a3c5-4de6-870b-b7c5b2b93c09",
   "metadata": {},
   "source": [
    "Intermediate Level:\n",
    "11. Write a program to check if a given list contains any duplicates using a `for` loop.\n",
    "\n",
    "12. Create a program that prints the prime numbers in a given range using a `for` loop.\n",
    "\n",
    "13. Develop a program that counts the number of vowels in a string using a `for` loop.\n",
    "14. Write a program to find the maximum element in a 2D list using a nested `for` loop.\n",
    "15. Create a program that removes all occurrences of a specific element from a list using a `for` loop.\n",
    "16. Develop a program that generates a multiplication table for numbers from 1 to 5 using a nested `for` loop.\n",
    "17. Write a program that converts a list of Fahrenheit temperatures to Celsius using a `for` loop.\n",
    "18. Create a program to print the common elements from two lists using a `for` loop.\n",
    "19. Develop a program that prints the pattern of right-angled triangles using a `for` loop. Use ‘*’ to draw the\n",
    "pattern\n",
    "20. Write a program to find the greatest common divisor (GCD) of two numbers using a `for` loop."
   ]
  },
  {
   "cell_type": "code",
   "execution_count": 4,
   "id": "5586a6f6-35fe-4c33-92d9-87d2acbdf9b4",
   "metadata": {},
   "outputs": [
    {
     "name": "stdout",
     "output_type": "stream",
     "text": [
      " The duplicate elements are:  {6: 3}\n"
     ]
    }
   ],
   "source": [
    "#11)\n",
    "l =[1,2,3,4,6,7,8,5,6,6]\n",
    "dic = {}\n",
    "for i in l:\n",
    "    if l.count(i) > 1:\n",
    "        dic[i] = l.count(i)\n",
    "print( \" The duplicate elements are: \",dic)        \n",
    "        \n",
    "    "
   ]
  },
  {
   "cell_type": "code",
   "execution_count": 6,
   "id": "533c120e-ed87-4013-aa84-40c5d2ab91a0",
   "metadata": {},
   "outputs": [
    {
     "name": "stdout",
     "output_type": "stream",
     "text": [
      "[3, 5, 7, 9, 11, 13, 15, 17, 19, 21, 23, 25, 27, 29, 31, 33, 35, 37, 39, 41, 43, 45, 47, 49]\n"
     ]
    }
   ],
   "source": [
    "#12) Prime nos. in a given range:\n",
    "l=[]\n",
    "for i in range(2,50):\n",
    "    for j in (2,i):\n",
    "        if i%j == 0:\n",
    "            flag = 1\n",
    "            break\n",
    "        else:\n",
    "            flag = 0\n",
    "        if flag == 0:\n",
    "            l.append(i)\n",
    "print(l)            \n",
    "\n"
   ]
  },
  {
   "cell_type": "code",
   "execution_count": 7,
   "id": "2d63206f-75da-4679-8305-a545f3666a4e",
   "metadata": {},
   "outputs": [
    {
     "name": "stdin",
     "output_type": "stream",
     "text": [
      " adobe\n"
     ]
    },
    {
     "name": "stdout",
     "output_type": "stream",
     "text": [
      "no. of vowles in a string are:  3\n"
     ]
    }
   ],
   "source": [
    "#13) Vowles:\n",
    "s = input()\n",
    "count = 0\n",
    "for i in s:\n",
    "    if i in 'aeiouAEIOU':\n",
    "        count = count+1\n",
    "print( \"no. of vowles in a string are: \", count)     \n",
    "        \n",
    "    "
   ]
  },
  {
   "cell_type": "code",
   "execution_count": 24,
   "id": "475eb441-d64d-4aff-a0a0-75db4f5419cd",
   "metadata": {},
   "outputs": [
    {
     "name": "stdout",
     "output_type": "stream",
     "text": [
      "200\n"
     ]
    }
   ],
   "source": [
    "#14) Maximum element in a 2d list:\n",
    "l =[[1,2,3,4],[5,6,7,8],[100,200]]\n",
    "#max =l[0][0]\n",
    "for i in range(len(l)):\n",
    "    for j in range(len(l[i])):\n",
    "        max =l[i][j]\n",
    "        if j > max:\n",
    "            max == j\n",
    "print(max)"
   ]
  },
  {
   "cell_type": "code",
   "execution_count": 26,
   "id": "8e56c50c-1e21-4b96-a3cd-647275a4f5f5",
   "metadata": {},
   "outputs": [
    {
     "name": "stdin",
     "output_type": "stream",
     "text": [
      " abcde\n"
     ]
    },
    {
     "name": "stdout",
     "output_type": "stream",
     "text": [
      "abcd\n"
     ]
    }
   ],
   "source": [
    "#15)\n",
    "s = input()\n",
    "for i in s:\n",
    "    if (i == \"e\"):\n",
    "        g= s.replace(i,\"\")\n",
    "print(g)\n",
    "       "
   ]
  },
  {
   "cell_type": "code",
   "execution_count": 27,
   "id": "0330fb6a-ca72-408e-8bff-bf8b9b5da411",
   "metadata": {},
   "outputs": [
    {
     "name": "stdout",
     "output_type": "stream",
     "text": [
      "0 0 0 0 0 \n",
      "1 2 3 4 5 \n",
      "2 4 6 8 10 \n",
      "3 6 9 12 15 \n",
      "4 8 12 16 20 \n",
      "5 10 15 20 25 \n"
     ]
    }
   ],
   "source": [
    "#16)\n",
    "for i in range(0,6):\n",
    "    for j in range(1,6):\n",
    "        print(i*j, end = \" \")\n",
    "    print()    \n"
   ]
  },
  {
   "cell_type": "code",
   "execution_count": 30,
   "id": "106db83b-4acf-42fb-a479-e2392cf9169a",
   "metadata": {},
   "outputs": [
    {
     "name": "stdout",
     "output_type": "stream",
     "text": [
      "Temperatures in Degree Celcius are:   [-5.0, 12.78, 19.44, 31.67]\n"
     ]
    }
   ],
   "source": [
    "#17)\n",
    "l = [ 23, 55, 67, 89]# temparature in F\n",
    "c = []\n",
    "for i in l:\n",
    "    i = round((i -32)*(5/9),2)\n",
    "    c.append(i)\n",
    "print( \"Temperatures in Degree Celcius are:  \", c)    "
   ]
  },
  {
   "cell_type": "code",
   "execution_count": 41,
   "id": "a0006008-54ea-4219-a528-51d6f647f296",
   "metadata": {},
   "outputs": [
    {
     "name": "stdout",
     "output_type": "stream",
     "text": [
      "2\n",
      "5\n"
     ]
    }
   ],
   "source": [
    "#18)\n",
    "l1 =[1,2,3,4,5,6]\n",
    "l2 = [2,5,5,8,9,0]\n",
    "\n",
    "for i in l1:\n",
    "    if i in l2:\n",
    "        print(i)\n",
    "            "
   ]
  },
  {
   "cell_type": "code",
   "execution_count": 42,
   "id": "73af4ab3-e1f8-4963-8f5f-1673d73985d6",
   "metadata": {},
   "outputs": [
    {
     "name": "stdout",
     "output_type": "stream",
     "text": [
      "* \n",
      "* * \n",
      "* * * \n",
      "* * * * \n",
      "* * * * * \n",
      "* * * * * * \n"
     ]
    }
   ],
   "source": [
    "#19)\n",
    "for i in range(0,6):\n",
    "    for j in range( i +1):\n",
    "        print(\"*\", end=\" \")\n",
    "    print()    "
   ]
  },
  {
   "cell_type": "code",
   "execution_count": 43,
   "id": "6fd806d5-77f2-4c4c-ab18-7bfbce2d4fbc",
   "metadata": {},
   "outputs": [
    {
     "name": "stdout",
     "output_type": "stream",
     "text": [
      "10\n"
     ]
    }
   ],
   "source": [
    "#20) GCD:\n",
    "a = 10\n",
    "b = 20\n",
    "if a>b:\n",
    "    temp = b\n",
    "else:\n",
    "    temp = a\n",
    "for i in range( 1, temp+1):\n",
    "    if (a%i == 0) and (b%i == 0):\n",
    "        gcd = i\n",
    "print(gcd)        "
   ]
  },
  {
   "cell_type": "markdown",
   "id": "8985bff9-e412-41e1-9561-c3e547f62bbf",
   "metadata": {},
   "source": [
    "Advanced Level: List Comprehension:\n",
    "\n",
    "21. Create a program that calculates the sum of the digits of numbers in a list using a list comprehension.\n",
    "\n",
    "22. Write a program to find the prime factors of a given number using a `for` loop and list comprehension.\n",
    "23. Develop a program that extracts unique elements from a list and stores them in a new list using a list\n",
    "comprehension.\n",
    "24. Create a program that generates a list of all palindromic numbers up to a specified limit using a list\n",
    "comprehension.\n",
    "25. Write a program to flatten a nested list using list comprehension.\n",
    "26. Develop a program that computes the sum of even and odd numbers in a list separately using list\n",
    "comprehension.\n",
    "27. Create a program that generates a list of squares of odd numbers between 1 and 10 using list\n",
    "comprehension.\n",
    "28. Write a program that combines two lists into a dictionary using list comprehension.\n",
    "29. Develop a program that extracts the vowels from a string and stores them in a list using list comprehension.\n",
    "30. Create a program that removes all non-numeric characters from a list of strings using list comprehension."
   ]
  },
  {
   "cell_type": "code",
   "execution_count": 54,
   "id": "029ad98a-d1b5-4ecd-90e6-db0514a27c2a",
   "metadata": {},
   "outputs": [
    {
     "data": {
      "text/plain": [
       "[1, 3, 6, 10, 15]"
      ]
     },
     "execution_count": 54,
     "metadata": {},
     "output_type": "execute_result"
    }
   ],
   "source": [
    "#21)\n",
    "l =[1,2,3,4,5]\n",
    "total = 0\n",
    "[total:=total+i for i in l ]\n"
   ]
  },
  {
   "cell_type": "code",
   "execution_count": 7,
   "id": "5e5d5004-b034-4d95-afd6-72851c439812",
   "metadata": {},
   "outputs": [
    {
     "name": "stdout",
     "output_type": "stream",
     "text": [
      "[2, 3, 5]\n"
     ]
    }
   ],
   "source": [
    "#22) find prime factors of a number using for loop\"\n",
    "a = 30\n",
    "j = []\n",
    "for i in range(2,a+1):\n",
    "    while a%i == 0:\n",
    "        j.append(i)\n",
    "        a = a//i\n",
    "print(j)            \n"
   ]
  },
  {
   "cell_type": "code",
   "execution_count": 15,
   "id": "1ba28a6f-655a-42cf-b4b7-40961df1c469",
   "metadata": {},
   "outputs": [
    {
     "data": {
      "text/plain": [
       "[]"
      ]
     },
     "execution_count": 15,
     "metadata": {},
     "output_type": "execute_result"
    }
   ],
   "source": [
    "j = [i for i in range(2,a+1) if (a%i == 0)]\n",
    "j"
   ]
  },
  {
   "cell_type": "code",
   "execution_count": 19,
   "id": "6039fa61-593d-4f6d-af7f-86c335dc6732",
   "metadata": {},
   "outputs": [
    {
     "data": {
      "text/plain": [
       "[2, 3, 5]"
      ]
     },
     "execution_count": 19,
     "metadata": {},
     "output_type": "execute_result"
    }
   ],
   "source": [
    "a = 30\n",
    "j = [i for i in range(2, a + 1) if a % i == 0 and all(i % d != 0 for d in range(2, i))]\n",
    "j"
   ]
  },
  {
   "cell_type": "code",
   "execution_count": null,
   "id": "8242312e-166f-47cd-9348-03dec3acc012",
   "metadata": {},
   "outputs": [],
   "source": []
  },
  {
   "cell_type": "code",
   "execution_count": null,
   "id": "3e1290af-3239-47e0-a982-777b72a722de",
   "metadata": {},
   "outputs": [],
   "source": [
    "number = int(input(\"Enter a number: \"))\n",
    "factors = [divisor for divisor in range(2, number + 1) if number % divisor == 0 and all(divisor % d != 0 for d in range(2, divisor))]\n",
    "print(f\"Prime factors of {number} are: {factors}\")"
   ]
  },
  {
   "cell_type": "code",
   "execution_count": 22,
   "id": "f39d8e1c-141a-4135-86fc-9797fabd9826",
   "metadata": {
    "collapsed": true,
    "jupyter": {
     "outputs_hidden": true
    },
    "tags": []
   },
   "outputs": [
    {
     "data": {
      "text/plain": [
       "'The code you provided is used to find the prime factors of a given number. Let me explain how it works step by step:\\n\\n1. `number = int(input(\"Enter a number: \"))`: This line prompts the user to input a number and stores it in the variable `number`. It uses `int(input(...))` to convert the user\\'s input into an integer.\\n\\n2. `factors = [divisor for divisor in range(2, number + 1) if number % divisor == 0 and all(divisor % d != 0 for d in range(2, divisor))]`: This line is a list comprehension that finds the prime factors of the input number.\\n\\n   - `for divisor in range(2, number + 1)`: It iterates through numbers from 2 to the input number.\\n\\n   - `if number % divisor == 0`: This condition checks if the input number is divisible by the current `divisor`.\\n\\n   - `and all(divisor % d != 0 for d in range(2, divisor))`: This part ensures that the `divisor` is prime. It does so by checking that the `divisor` is not divisible by any number in the range from 2 to `divisor - 1`. This ensures that no smaller divisor exists for the `divisor`, making it a prime factor.\\n\\n3. `print(f\"Prime factors of {number} are: {factors}\")`: This line prints the prime factors of the input number, including a formatted message that displays the input number and the list of prime factors.\\n\\nHere\\'s an example of how the code works:\\n\\n```\\nEnter a number: 36\\nPrime factors of 36 are: [2, 3]\\n```\\n\\nIn this example, the code correctly identifies that the prime factors of 36 are 2 and 3, and it displays them in the output.'"
      ]
     },
     "execution_count": 22,
     "metadata": {},
     "output_type": "execute_result"
    }
   ],
   "source": [
    "\"\"\"The code you provided is used to find the prime factors of a given number. Let me explain how it works step by step:\n",
    "\n",
    "1. `number = int(input(\"Enter a number: \"))`: This line prompts the user to input a number and stores it in the variable `number`. It uses `int(input(...))` to convert the user's input into an integer.\n",
    "\n",
    "2. `factors = [divisor for divisor in range(2, number + 1) if number % divisor == 0 and all(divisor % d != 0 for d in range(2, divisor))]`: This line is a list comprehension that finds the prime factors of the input number.\n",
    "\n",
    "   - `for divisor in range(2, number + 1)`: It iterates through numbers from 2 to the input number.\n",
    "\n",
    "   - `if number % divisor == 0`: This condition checks if the input number is divisible by the current `divisor`.\n",
    "\n",
    "   - `and all(divisor % d != 0 for d in range(2, divisor))`: This part ensures that the `divisor` is prime. It does so by checking that the `divisor` is not divisible by any number in the range from 2 to `divisor - 1`. This ensures that no smaller divisor exists for the `divisor`, making it a prime factor.\n",
    "\n",
    "3. `print(f\"Prime factors of {number} are: {factors}\")`: This line prints the prime factors of the input number, including a formatted message that displays the input number and the list of prime factors.\n",
    "\n",
    "Here's an example of how the code works:\n",
    "\n",
    "```\n",
    "Enter a number: 36\n",
    "Prime factors of 36 are: [2, 3]\n",
    "```\n",
    "\n",
    "In this example, the code correctly identifies that the prime factors of 36 are 2 and 3, and it displays them in the output.\"\"\"\n",
    "\n",
    "\n"
   ]
  },
  {
   "cell_type": "code",
   "execution_count": 23,
   "id": "fd2497db-b689-42f9-bb45-75744580629b",
   "metadata": {},
   "outputs": [],
   "source": [
    "#23)extract uinque element present in the list\n",
    "l =[1,2,2,3,4,5]\n",
    "ll = [i for i in l if l.count(i) == 1]"
   ]
  },
  {
   "cell_type": "code",
   "execution_count": 24,
   "id": "f96a5852-4df6-49e4-88a0-aadf673e3ae5",
   "metadata": {},
   "outputs": [
    {
     "data": {
      "text/plain": [
       "[1, 3, 4, 5]"
      ]
     },
     "execution_count": 24,
     "metadata": {},
     "output_type": "execute_result"
    }
   ],
   "source": [
    "ll"
   ]
  },
  {
   "cell_type": "code",
   "execution_count": 25,
   "id": "c453da3e-a5a8-4b8e-9c78-20e4ebe4a7e0",
   "metadata": {},
   "outputs": [],
   "source": [
    "#24)\n",
    "L = [int(\"%d%d%d\" % (x,y,x)) for x in range(1,10) for y in range(10)]\n"
   ]
  },
  {
   "cell_type": "code",
   "execution_count": 26,
   "id": "713b4974-e7a9-4e5a-abc7-459b91d89a02",
   "metadata": {
    "collapsed": true,
    "jupyter": {
     "outputs_hidden": true
    },
    "tags": []
   },
   "outputs": [
    {
     "data": {
      "text/plain": [
       "[101,\n",
       " 111,\n",
       " 121,\n",
       " 131,\n",
       " 141,\n",
       " 151,\n",
       " 161,\n",
       " 171,\n",
       " 181,\n",
       " 191,\n",
       " 202,\n",
       " 212,\n",
       " 222,\n",
       " 232,\n",
       " 242,\n",
       " 252,\n",
       " 262,\n",
       " 272,\n",
       " 282,\n",
       " 292,\n",
       " 303,\n",
       " 313,\n",
       " 323,\n",
       " 333,\n",
       " 343,\n",
       " 353,\n",
       " 363,\n",
       " 373,\n",
       " 383,\n",
       " 393,\n",
       " 404,\n",
       " 414,\n",
       " 424,\n",
       " 434,\n",
       " 444,\n",
       " 454,\n",
       " 464,\n",
       " 474,\n",
       " 484,\n",
       " 494,\n",
       " 505,\n",
       " 515,\n",
       " 525,\n",
       " 535,\n",
       " 545,\n",
       " 555,\n",
       " 565,\n",
       " 575,\n",
       " 585,\n",
       " 595,\n",
       " 606,\n",
       " 616,\n",
       " 626,\n",
       " 636,\n",
       " 646,\n",
       " 656,\n",
       " 666,\n",
       " 676,\n",
       " 686,\n",
       " 696,\n",
       " 707,\n",
       " 717,\n",
       " 727,\n",
       " 737,\n",
       " 747,\n",
       " 757,\n",
       " 767,\n",
       " 777,\n",
       " 787,\n",
       " 797,\n",
       " 808,\n",
       " 818,\n",
       " 828,\n",
       " 838,\n",
       " 848,\n",
       " 858,\n",
       " 868,\n",
       " 878,\n",
       " 888,\n",
       " 898,\n",
       " 909,\n",
       " 919,\n",
       " 929,\n",
       " 939,\n",
       " 949,\n",
       " 959,\n",
       " 969,\n",
       " 979,\n",
       " 989,\n",
       " 999]"
      ]
     },
     "execution_count": 26,
     "metadata": {},
     "output_type": "execute_result"
    }
   ],
   "source": [
    "L"
   ]
  },
  {
   "cell_type": "code",
   "execution_count": 9,
   "id": "49951852-f0b0-4db6-9399-a7a32a050d69",
   "metadata": {},
   "outputs": [
    {
     "ename": "SyntaxError",
     "evalue": "closing parenthesis ']' does not match opening parenthesis '(' (569951656.py, line 2)",
     "output_type": "error",
     "traceback": [
      "\u001b[0;36m  Cell \u001b[0;32mIn[10], line 2\u001b[0;36m\u001b[0m\n\u001b[0;31m    l = [ i (if (type(i) != list) else j for j in i]\u001b[0m\n\u001b[0m                                                   ^\u001b[0m\n\u001b[0;31mSyntaxError\u001b[0m\u001b[0;31m:\u001b[0m closing parenthesis ']' does not match opening parenthesis '('\n"
     ]
    }
   ],
   "source": [
    "lis = [1,2,3,[4,5,6],7,8]\n",
    "l = [ i for i in lis if (type(i) != list) else j for j in i]"
   ]
  },
  {
   "cell_type": "code",
   "execution_count": 5,
   "id": "cf0e1533-aeee-4ad0-8ec4-add6fa5ab784",
   "metadata": {},
   "outputs": [
    {
     "ename": "TypeError",
     "evalue": "'int' object is not iterable",
     "output_type": "error",
     "traceback": [
      "\u001b[0;31m---------------------------------------------------------------------------\u001b[0m",
      "\u001b[0;31mTypeError\u001b[0m                                 Traceback (most recent call last)",
      "Cell \u001b[0;32mIn[5], line 4\u001b[0m\n\u001b[1;32m      1\u001b[0m lis \u001b[38;5;241m=\u001b[39m [\u001b[38;5;241m11\u001b[39m, \u001b[38;5;241m22\u001b[39m, \u001b[38;5;241m33\u001b[39m, \u001b[38;5;241m44\u001b[39m, [\u001b[38;5;241m55\u001b[39m, \u001b[38;5;241m66\u001b[39m, \u001b[38;5;241m77\u001b[39m], [\u001b[38;5;241m88\u001b[39m, \u001b[38;5;241m99\u001b[39m, \u001b[38;5;241m100\u001b[39m]]\n\u001b[1;32m      3\u001b[0m \u001b[38;5;66;03m# iterate through the sublist using List comprehension\u001b[39;00m\n\u001b[0;32m----> 4\u001b[0m flatList \u001b[38;5;241m=\u001b[39m [element \u001b[38;5;28;01mfor\u001b[39;00m innerList \u001b[38;5;129;01min\u001b[39;00m lis \u001b[38;5;28;01mfor\u001b[39;00m element \u001b[38;5;129;01min\u001b[39;00m innerList]\n",
      "Cell \u001b[0;32mIn[5], line 4\u001b[0m, in \u001b[0;36m<listcomp>\u001b[0;34m(.0)\u001b[0m\n\u001b[1;32m      1\u001b[0m lis \u001b[38;5;241m=\u001b[39m [\u001b[38;5;241m11\u001b[39m, \u001b[38;5;241m22\u001b[39m, \u001b[38;5;241m33\u001b[39m, \u001b[38;5;241m44\u001b[39m, [\u001b[38;5;241m55\u001b[39m, \u001b[38;5;241m66\u001b[39m, \u001b[38;5;241m77\u001b[39m], [\u001b[38;5;241m88\u001b[39m, \u001b[38;5;241m99\u001b[39m, \u001b[38;5;241m100\u001b[39m]]\n\u001b[1;32m      3\u001b[0m \u001b[38;5;66;03m# iterate through the sublist using List comprehension\u001b[39;00m\n\u001b[0;32m----> 4\u001b[0m flatList \u001b[38;5;241m=\u001b[39m [element \u001b[38;5;28;01mfor\u001b[39;00m innerList \u001b[38;5;129;01min\u001b[39;00m lis \u001b[38;5;28;01mfor\u001b[39;00m element \u001b[38;5;129;01min\u001b[39;00m innerList]\n",
      "\u001b[0;31mTypeError\u001b[0m: 'int' object is not iterable"
     ]
    }
   ],
   "source": [
    "lis = [11, 22, 33, 44, [55, 66, 77], [88, 99, 100]]\n",
    " \n",
    "# iterate through the sublist using List comprehension\n",
    "flatList = [element for innerList in lis for element in innerList]"
   ]
  },
  {
   "cell_type": "code",
   "execution_count": 1,
   "id": "9c95b1ea-6643-4d0b-9c78-73fbcd3e6159",
   "metadata": {},
   "outputs": [
    {
     "name": "stdout",
     "output_type": "stream",
     "text": [
      "[1, 2, 3, 4, 5, 6, 7, 8, 9]\n"
     ]
    }
   ],
   "source": [
    "#25)\n",
    "l = [1,2,3,[4,5,6],7,8,9]\n",
    "flattened_list = [item for sublist in l for item in (sublist if isinstance(sublist, list) else [sublist])]\n",
    "print(flattened_list)"
   ]
  },
  {
   "cell_type": "code",
   "execution_count": null,
   "id": "de21c3ed-0d13-4480-b663-81271342dcf2",
   "metadata": {},
   "outputs": [],
   "source": []
  }
 ],
 "metadata": {
  "kernelspec": {
   "display_name": "Python 3 (ipykernel)",
   "language": "python",
   "name": "python3"
  },
  "language_info": {
   "codemirror_mode": {
    "name": "ipython",
    "version": 3
   },
   "file_extension": ".py",
   "mimetype": "text/x-python",
   "name": "python",
   "nbconvert_exporter": "python",
   "pygments_lexer": "ipython3",
   "version": "3.10.8"
  }
 },
 "nbformat": 4,
 "nbformat_minor": 5
}
