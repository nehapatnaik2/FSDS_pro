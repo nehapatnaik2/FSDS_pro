{
 "cells": [
  {
   "cell_type": "markdown",
   "id": "d1565d29-92a0-428f-b25b-f69baad7b44c",
   "metadata": {},
   "source": [
    "** Python basics assignment 19August 2023 **"
   ]
  },
  {
   "cell_type": "markdown",
   "id": "6c6e37c9-9977-4d60-b525-baac4ce01a63",
   "metadata": {},
   "source": [
    "1)  Declare two variables, `x` and `y`, and assign them integer values. Swap the\n",
    "values of these variables without using any temporary variable."
   ]
  },
  {
   "cell_type": "code",
   "execution_count": 10,
   "id": "2162278b-2366-4464-a410-1fdcc19a4ff5",
   "metadata": {},
   "outputs": [
    {
     "name": "stdin",
     "output_type": "stream",
     "text": [
      " 22\n",
      " 33\n"
     ]
    }
   ],
   "source": [
    "# enter two integers:\n",
    "x = int(input())\n",
    "y = int(input())\n"
   ]
  },
  {
   "cell_type": "code",
   "execution_count": 15,
   "id": "f3e6bcb8-7f94-49bd-ae95-d48288fe520f",
   "metadata": {},
   "outputs": [
    {
     "name": "stdout",
     "output_type": "stream",
     "text": [
      "x is 22 and y is 33\n"
     ]
    }
   ],
   "source": [
    "print(f\"x is {x} and y is {y}\")"
   ]
  },
  {
   "cell_type": "code",
   "execution_count": 16,
   "id": "fee500cb-6254-46c7-97f6-f51d1050bef5",
   "metadata": {},
   "outputs": [],
   "source": [
    "x = x+y #x = 66\n",
    "y = x-y"
   ]
  },
  {
   "cell_type": "code",
   "execution_count": 17,
   "id": "5da67294-67f4-423e-8245-dc37ffa39622",
   "metadata": {},
   "outputs": [
    {
     "data": {
      "text/plain": [
       "22"
      ]
     },
     "execution_count": 17,
     "metadata": {},
     "output_type": "execute_result"
    }
   ],
   "source": [
    "y"
   ]
  },
  {
   "cell_type": "code",
   "execution_count": 18,
   "id": "d5d4b2f7-27f4-451f-ab19-f84e9db14327",
   "metadata": {},
   "outputs": [
    {
     "data": {
      "text/plain": [
       "33"
      ]
     },
     "execution_count": 18,
     "metadata": {},
     "output_type": "execute_result"
    }
   ],
   "source": [
    "x = x-y\n",
    "x"
   ]
  },
  {
   "cell_type": "code",
   "execution_count": 21,
   "id": "ab7d5e48-9f7a-4631-9ecf-5d5a89a3805c",
   "metadata": {},
   "outputs": [
    {
     "name": "stdout",
     "output_type": "stream",
     "text": [
      "Now,x is 33 and y is 22\n"
     ]
    }
   ],
   "source": [
    "print(f\"Now, x is {x} and y is {y}\")"
   ]
  },
  {
   "cell_type": "code",
   "execution_count": null,
   "id": "104f8029-40f9-4a03-8a2e-99f185f07087",
   "metadata": {},
   "outputs": [],
   "source": [
    "#Or this can be solved by using x,y = y,x in python."
   ]
  },
  {
   "cell_type": "markdown",
   "id": "8061798f-12a5-4631-8f17-12af8af8b1ac",
   "metadata": {},
   "source": [
    "2) Create a program that calculates the area of a rectangle. Take the length and\n",
    "width as inputs from the user and store them in variables. Calculate and\n",
    "display the area."
   ]
  },
  {
   "cell_type": "code",
   "execution_count": 22,
   "id": "eb79b0ac-1283-4269-93dc-5d2458b53272",
   "metadata": {},
   "outputs": [
    {
     "name": "stdin",
     "output_type": "stream",
     "text": [
      " 2\n",
      " 3\n"
     ]
    }
   ],
   "source": [
    "length = float(input())\n",
    "Width = float(input())"
   ]
  },
  {
   "cell_type": "code",
   "execution_count": 23,
   "id": "aafae72d-869e-4d76-b4bf-6a0ddf6a3fef",
   "metadata": {},
   "outputs": [
    {
     "name": "stdout",
     "output_type": "stream",
     "text": [
      "Area of the rectangle is 6\n"
     ]
    }
   ],
   "source": [
    "Area = length*Width\n",
    "print(f\"Area of the rectangle is {Area}\")"
   ]
  },
  {
   "cell_type": "markdown",
   "id": "765aee70-80d6-46d2-a5e6-92ae47b890df",
   "metadata": {},
   "source": [
    "3) Write a Python program that converts temperatures from Celsius to\n",
    "Fahrenheit. Take the temperature in Celsius as input, store it in a variable,\n",
    "convert it to Fahrenheit, and display the result."
   ]
  },
  {
   "cell_type": "code",
   "execution_count": 26,
   "id": "1dcc9629-0237-4db8-bf17-0580cb48d877",
   "metadata": {},
   "outputs": [
    {
     "name": "stdin",
     "output_type": "stream",
     "text": [
      " 33.3\n"
     ]
    }
   ],
   "source": [
    "Temperature_in_Celcius = float(input())\n"
   ]
  },
  {
   "cell_type": "code",
   "execution_count": 27,
   "id": "ae743a93-e96d-4df2-bce1-98e699366273",
   "metadata": {},
   "outputs": [],
   "source": [
    "Temperature_in_Fahrenheit = (Temperature_in_Celcius*(9/5)) +32"
   ]
  },
  {
   "cell_type": "code",
   "execution_count": 28,
   "id": "d1b672a9-2ebe-4f05-882b-b131cd823899",
   "metadata": {},
   "outputs": [
    {
     "name": "stdout",
     "output_type": "stream",
     "text": [
      "Temperature_in_Fahrenheit is 91.94 F\n"
     ]
    }
   ],
   "source": [
    "print(f\"Temperature_in_Fahrenheit is {Temperature_in_Fahrenheit} F\")"
   ]
  },
  {
   "cell_type": "markdown",
   "id": "8e1b73b7-36c8-4798-bc2f-252e11ef3661",
   "metadata": {},
   "source": [
    "String Based Questions:\n",
    "\n"
   ]
  },
  {
   "cell_type": "markdown",
   "id": "d0920cf2-0758-4570-8f77-1dca4ef1f66d",
   "metadata": {},
   "source": [
    "1) Write a Python program that takes a string as input and prints the length of\n",
    "the string."
   ]
  },
  {
   "cell_type": "code",
   "execution_count": 29,
   "id": "84a3913b-086f-498c-ade2-6737fb1cd21f",
   "metadata": {},
   "outputs": [
    {
     "name": "stdin",
     "output_type": "stream",
     "text": [
      " hello\n"
     ]
    }
   ],
   "source": [
    "s = input()\n",
    "length = len(s) # len() function provides length of a string."
   ]
  },
  {
   "cell_type": "code",
   "execution_count": 30,
   "id": "036cdcee-3928-43ef-901b-41e9a33cae33",
   "metadata": {},
   "outputs": [
    {
     "name": "stdout",
     "output_type": "stream",
     "text": [
      "length of the string is 5\n"
     ]
    }
   ],
   "source": [
    "print(f\"length of the string is {length}\")"
   ]
  },
  {
   "cell_type": "markdown",
   "id": "15ebf926-83da-4b12-846c-c8c2d65b53dd",
   "metadata": {},
   "source": [
    "2) Create a program that takes a sentence from the user and counts the number\n",
    "of vowels (a, e, i, o, u) in the string."
   ]
  },
  {
   "cell_type": "code",
   "execution_count": 36,
   "id": "be4ba882-e67c-43cc-9bef-c6a91bdb4f2d",
   "metadata": {},
   "outputs": [
    {
     "name": "stdin",
     "output_type": "stream",
     "text": [
      " KLLLHJH\n"
     ]
    }
   ],
   "source": [
    "sentence = input()"
   ]
  },
  {
   "cell_type": "code",
   "execution_count": 37,
   "id": "30b17b4b-6007-43ba-bd97-706879f34a5b",
   "metadata": {},
   "outputs": [
    {
     "name": "stdout",
     "output_type": "stream",
     "text": [
      "No. of vowels in the sentence: 0\n"
     ]
    }
   ],
   "source": [
    "count = 0\n",
    "for i in sentence: # Using For Loop and if statement\n",
    "    if i in 'aeiouAEIOU':\n",
    "        count = count +1    \n",
    "print(\"No. of vowels in the sentence:\", count)        "
   ]
  },
  {
   "cell_type": "markdown",
   "id": "6d04f443-ecff-4618-9841-2a44f622aa9e",
   "metadata": {},
   "source": [
    "3) Given a string, reverse the order of characters using string slicing and print\n",
    "the reversed string."
   ]
  },
  {
   "cell_type": "code",
   "execution_count": 41,
   "id": "76643e9f-9d98-4059-933c-b2ad05c0933e",
   "metadata": {},
   "outputs": [
    {
     "name": "stdin",
     "output_type": "stream",
     "text": [
      " jump098877_\n"
     ]
    }
   ],
   "source": [
    "s1 = input()"
   ]
  },
  {
   "cell_type": "code",
   "execution_count": 42,
   "id": "80ff7b3e-685f-4658-b393-baf2575b76d3",
   "metadata": {},
   "outputs": [
    {
     "name": "stdout",
     "output_type": "stream",
     "text": [
      "The reversed string is  _778890pmuj\n"
     ]
    }
   ],
   "source": [
    "s1 = s1[::-1]\n",
    "print(\"The reversed string is \", s1)"
   ]
  },
  {
   "cell_type": "markdown",
   "id": "a4665cd5-789e-4a1c-a6f3-79e4a9018948",
   "metadata": {},
   "source": [
    "4) Write a program that takes a string as input and checks if it is a palindrome\n",
    "(reads the same forwards and backwards)."
   ]
  },
  {
   "cell_type": "code",
   "execution_count": 135,
   "id": "7e63885f-b2ec-4919-a3fd-6ac57bbbf34a",
   "metadata": {},
   "outputs": [
    {
     "name": "stdin",
     "output_type": "stream",
     "text": [
      " FTT TTF\n"
     ]
    }
   ],
   "source": [
    "s2 = input()"
   ]
  },
  {
   "cell_type": "code",
   "execution_count": 136,
   "id": "6503b574-b8d3-44d3-aac7-16b2cd36030b",
   "metadata": {},
   "outputs": [
    {
     "name": "stdout",
     "output_type": "stream",
     "text": [
      "Yes it is a palindrome\n"
     ]
    }
   ],
   "source": [
    "\n",
    "    if s2[::-1] == s2:\n",
    "        print(\"Yes it is a palindrome\")\n",
    "    else:\n",
    "        print(\"Not a palindrome!\")"
   ]
  },
  {
   "cell_type": "markdown",
   "id": "13c8a1fb-88a5-4160-b800-913d5f0fd0df",
   "metadata": {},
   "source": [
    "5) Create a program that takes a string as input and removes all the spaces from\n",
    "it. Print the modified string without spaces."
   ]
  },
  {
   "cell_type": "code",
   "execution_count": 124,
   "id": "62c8737c-1c20-40b0-9fab-1115c174e420",
   "metadata": {
    "tags": []
   },
   "outputs": [],
   "source": [
    "# string doesnot support item deletion.\n",
    "#string is immutable.\n",
    "\n"
   ]
  },
  {
   "cell_type": "code",
   "execution_count": 131,
   "id": "4d6caebc-a766-4c23-9751-d00271041c54",
   "metadata": {},
   "outputs": [
    {
     "name": "stdin",
     "output_type": "stream",
     "text": [
      " fdueyd%b d7e8d78e7d((\n"
     ]
    }
   ],
   "source": [
    "s4 = input()"
   ]
  },
  {
   "cell_type": "code",
   "execution_count": 132,
   "id": "0b86d904-fbda-4cfb-a32f-dd9892f76cfc",
   "metadata": {},
   "outputs": [
    {
     "name": "stdout",
     "output_type": "stream",
     "text": [
      "fdueyd%bd7e8d78e7d((\n"
     ]
    }
   ],
   "source": [
    "st = \"\" # declare an empty string.\n",
    "for i in s4:\n",
    "    if i != \" \":\n",
    "        st += i\n",
    "print(st)        "
   ]
  },
  {
   "cell_type": "markdown",
   "id": "ede718a8-9981-4db1-ada3-9af89300f8c0",
   "metadata": {},
   "source": [
    "                                                            END\n",
    "                                                            "
   ]
  },
  {
   "cell_type": "markdown",
   "id": "8694ae29-dab3-4df7-b99c-746e637e23e8",
   "metadata": {},
   "source": [
    "Rough work:"
   ]
  },
  {
   "cell_type": "code",
   "execution_count": 128,
   "id": "ab0dc957-dfb5-45cb-9b08-28301863693a",
   "metadata": {},
   "outputs": [],
   "source": [
    "#Extras:"
   ]
  },
  {
   "cell_type": "code",
   "execution_count": 129,
   "id": "f40c8e71-8be6-42c7-a16a-76113d19a6ed",
   "metadata": {},
   "outputs": [],
   "source": [
    "#s3 = input()"
   ]
  },
  {
   "cell_type": "code",
   "execution_count": 130,
   "id": "cc8bc817-a605-4689-b3ab-cf40f11aeb2d",
   "metadata": {},
   "outputs": [
    {
     "data": {
      "text/plain": [
       "'s3 = list(s3)\\nfor i in range(len(s3)):\\n    if s3[i] == \" \":\\n        del s3[i]\\nprint(s3)        \\ns4 = (\"\".join(map(str,s3)))\\ns4\\n#print(\"the string without spaces is\", str(s3))'"
      ]
     },
     "execution_count": 130,
     "metadata": {},
     "output_type": "execute_result"
    }
   ],
   "source": [
    "'''s3 = list(s3)\n",
    "for i in range(len(s3)):\n",
    "    if s3[i] == \" \":\n",
    "        del s3[i]\n",
    "print(s3)        \n",
    "s4 = (\"\".join(map(str,s3)))\n",
    "s4\n",
    "#print(\"the string without spaces is\", str(s3))'''        "
   ]
  },
  {
   "cell_type": "raw",
   "id": "ba212f36-8fff-4b78-a765-9c62ee60df75",
   "metadata": {},
   "source": []
  }
 ],
 "metadata": {
  "kernelspec": {
   "display_name": "Python 3 (ipykernel)",
   "language": "python",
   "name": "python3"
  },
  "language_info": {
   "codemirror_mode": {
    "name": "ipython",
    "version": 3
   },
   "file_extension": ".py",
   "mimetype": "text/x-python",
   "name": "python",
   "nbconvert_exporter": "python",
   "pygments_lexer": "ipython3",
   "version": "3.10.8"
  }
 },
 "nbformat": 4,
 "nbformat_minor": 5
}
